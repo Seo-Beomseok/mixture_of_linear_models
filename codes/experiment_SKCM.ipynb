{
 "cells": [
  {
   "cell_type": "markdown",
   "metadata": {},
   "source": [
    "## <font color='blue'>0. Load data</font>"
   ]
  },
  {
   "cell_type": "code",
   "execution_count": 1,
   "metadata": {},
   "outputs": [],
   "source": [
    "import tensorflow as tf\n",
    "import numpy as np\n",
    "import pandas as pd\n",
    "from matplotlib import pyplot as plt\n",
    "import pickle\n",
    "\n",
    "import time\n",
    "import sys\n",
    "import os\n",
    "\n",
    "sys.path.append('./src')"
   ]
  },
  {
   "cell_type": "code",
   "execution_count": 4,
   "metadata": {},
   "outputs": [],
   "source": [
    "from sklearn.model_selection import train_test_split\n",
    "from sklearn.metrics import mean_squared_error, mean_absolute_error, roc_auc_score, accuracy_score"
   ]
  },
  {
   "cell_type": "code",
   "execution_count": 7,
   "metadata": {},
   "outputs": [
    {
     "name": "stdout",
     "output_type": "stream",
     "text": [
      "(388, 73) (388,) 73\n"
     ]
    },
    {
     "data": {
      "text/plain": [
       "[('AGE', 69),\n",
       " ('DAYS_TO_COLLECTION', 357),\n",
       " ('ETHNICITY', 2),\n",
       " ('FORM_COMPLETION_DATE', 104),\n",
       " ('FRACTION_GENOME_ALTERED', 372),\n",
       " ('HISTORY_NEOADJUVANT_TRTYN', 2),\n",
       " ('HISTORY_OTHER_MALIGNANCY', 2),\n",
       " ('ICD_10', 39),\n",
       " ('ICD_O_3_HISTOLOGY', 10),\n",
       " ('ICD_O_3_SITE', 35),\n",
       " ('INITIAL_PATHOLOGIC_DX_YEAR', 31),\n",
       " ('NEW_TUMOR_EVENT_AFTER_INITIAL_TREATMENT', 2),\n",
       " ('OCT_EMBEDDED', 2),\n",
       " ('OS_MONTHS', 368),\n",
       " ('PRIMARY_MELANOMA_KNOWN_DX', 2),\n",
       " ('PROSPECTIVE_COLLECTION', 2),\n",
       " ('RADIATION_TREATMENT_ADJUVANT', 2),\n",
       " ('RETROSPECTIVE_COLLECTION', 2),\n",
       " ('SAMPLE_COUNT', 2),\n",
       " ('SAMPLE_INITIAL_WEIGHT', 76),\n",
       " ('SAMPLE_TYPE', 2),\n",
       " ('SAMPLE_TYPE_ID', 2),\n",
       " ('SEX', 2),\n",
       " ('SUBMITTED_TUMOR_DX_DAYS_TO', 260),\n",
       " ('VIAL_NUMBER', 2),\n",
       " ('AJCC_NODES_PATHOLOGIC_PN0', 2),\n",
       " ('AJCC_NODES_PATHOLOGIC_PN1', 2),\n",
       " ('AJCC_NODES_PATHOLOGIC_PN2', 2),\n",
       " ('AJCC_NODES_PATHOLOGIC_PN3', 2),\n",
       " ('AJCC_NODES_PATHOLOGIC_PN4', 2),\n",
       " ('AJCC_NODES_PATHOLOGIC_PN5', 2),\n",
       " ('AJCC_NODES_PATHOLOGIC_PN6', 2),\n",
       " ('AJCC_NODES_PATHOLOGIC_PN7', 2),\n",
       " ('AJCC_NODES_PATHOLOGIC_PN8', 2),\n",
       " ('AJCC_STAGING_EDITION0', 2),\n",
       " ('AJCC_STAGING_EDITION1', 2),\n",
       " ('AJCC_STAGING_EDITION2', 2),\n",
       " ('AJCC_STAGING_EDITION3', 2),\n",
       " ('AJCC_STAGING_EDITION4', 2),\n",
       " ('AJCC_STAGING_EDITION5', 2),\n",
       " ('RACE0', 2),\n",
       " ('RACE1', 2),\n",
       " ('TISSUE_SOURCE_SITE0', 2),\n",
       " ('TISSUE_SOURCE_SITE1', 2),\n",
       " ('TISSUE_SOURCE_SITE2', 2),\n",
       " ('TISSUE_SOURCE_SITE3', 2),\n",
       " ('TISSUE_SOURCE_SITE4', 2),\n",
       " ('TISSUE_SOURCE_SITE5', 2),\n",
       " ('TISSUE_SOURCE_SITE6', 2),\n",
       " ('TISSUE_SOURCE_SITE7', 2),\n",
       " ('TISSUE_SOURCE_SITE8', 2),\n",
       " ('TISSUE_SOURCE_SITE9', 2),\n",
       " ('TISSUE_SOURCE_SITE10', 2),\n",
       " ('TISSUE_SOURCE_SITE11', 2),\n",
       " ('TISSUE_SOURCE_SITE12', 2),\n",
       " ('TISSUE_SOURCE_SITE13', 2),\n",
       " ('TISSUE_SOURCE_SITE14', 2),\n",
       " ('TISSUE_SOURCE_SITE15', 2),\n",
       " ('TISSUE_SOURCE_SITE16', 2),\n",
       " ('TISSUE_SOURCE_SITE17', 2),\n",
       " ('TISSUE_SOURCE_SITE18', 2),\n",
       " ('TISSUE_SOURCE_SITE19', 2),\n",
       " ('TISSUE_SOURCE_SITE20', 2),\n",
       " ('TUMOR_SITE0', 2),\n",
       " ('TUMOR_SITE1', 2),\n",
       " ('TUMOR_SITE2', 2),\n",
       " ('TUMOR_SITE3', 2),\n",
       " ('TUMOR_SITE4', 2),\n",
       " ('TUMOR_SITE5', 2),\n",
       " ('TUMOR_SITE6', 2),\n",
       " ('TUMOR_SITE7', 2),\n",
       " ('TUMOR_SITE8', 2),\n",
       " ('TUMOR_SITE9', 2)]"
      ]
     },
     "execution_count": 7,
     "metadata": {},
     "output_type": "execute_result"
    }
   ],
   "source": [
    "# read Bike Sharing data\n",
    "path = './data/TCGA/'\n",
    "df = pd.read_csv(path + \"TCGA_skcm.csv\")\n",
    "\n",
    "data = df.iloc[:,1:]\n",
    "orig_headers = list(data)\n",
    "outcome_header = \"OS_STATUS\"\n",
    "\n",
    "feature_names = list(data)\n",
    "feature_names.remove(outcome_header)\n",
    "\n",
    "one_vars = np.where(np.array([len(np.unique(x)) for x in np.array(data).T])==1)[0]\n",
    "for i in [orig_headers[i] for i in one_vars]:\n",
    "    feature_names.remove(i)\n",
    "    \n",
    "Xo = data[feature_names].values\n",
    "y = data[outcome_header].values\n",
    "\n",
    "\n",
    "cate_vars = np.where((np.array([len(np.unique(x)) for x in np.array(Xo).T])<=12) &\n",
    "                    (np.array([len(np.unique(x)) for x in np.array(Xo).T])>2))[0]\n",
    "cont_vars = np.where((np.array([len(np.unique(x)) for x in np.array(Xo).T])>12) |\n",
    "                    (np.array([len(np.unique(x)) for x in np.array(Xo).T])<=2))[0]\n",
    "cate_vars = np.setdiff1d(cate_vars,[10])\n",
    "cate_vars = np.sort(np.append(cate_vars,27))\n",
    "cont_vars = np.setdiff1d(cont_vars,[27])\n",
    "cont_vars = np.sort(np.append(cont_vars,10))\n",
    "\n",
    "X_cate = Xo[:,cate_vars]\n",
    "X_cont = Xo[:,cont_vars]\n",
    "names_cont = [feature_names[i] for i in cont_vars]\n",
    "names_cate = [feature_names[i] for i in cate_vars] \n",
    "\n",
    "\n",
    "X_cont_min, X_cont_max = X_cont.min(axis=0), X_cont.max(axis=0)\n",
    "X_cont = (X_cont-X_cont_min)/(X_cont_max - X_cont_min + 1e-9)\n",
    "    \n",
    "df_cate = [pd.get_dummies(Xo[:,i], drop_first=True).values for i in cate_vars]\n",
    "X_cate = np.hstack(df_cate)\n",
    "a = sum([list(np.repeat(names_cate[i],j)) for i,j in enumerate([x.shape[1] for x in df_cate])],[])\n",
    "b = sum([list(range(i)) for i in [x.shape[1] for x in df_cate]],[])\n",
    "names_cate = ['{}{}'.format(a[i],b[i]) for i in range(len(b))]     \n",
    "    \n",
    "X = np.hstack([X_cont,X_cate])\n",
    "feature_names = sum([names_cont,names_cate],[]) \n",
    "\n",
    "\n",
    "print(X.shape, y.shape, len(feature_names))\n",
    "list(zip(feature_names,[len(np.unique(X[:,i])) for i in range(X.shape[1])]))"
   ]
  },
  {
   "cell_type": "code",
   "execution_count": 70,
   "metadata": {},
   "outputs": [],
   "source": [
    "Xoo = np.hstack([Xo[:,cont_vars],X_cate])"
   ]
  },
  {
   "cell_type": "code",
   "execution_count": 9,
   "metadata": {},
   "outputs": [],
   "source": [
    "X_train, X_test, y_train, y_test = train_test_split(X, y, test_size=0.2, random_state=0)"
   ]
  },
  {
   "cell_type": "markdown",
   "metadata": {},
   "source": [
    "## <font color='blue'>1. EDA</font>"
   ]
  },
  {
   "cell_type": "code",
   "execution_count": 10,
   "metadata": {
    "scrolled": true
   },
   "outputs": [
    {
     "data": {
      "image/png": "[encoded data removed]",
      "text/plain": [
       "<Figure size 432x288 with 1 Axes>"
      ]
     },
     "metadata": {
      "needs_background": "light"
     },
     "output_type": "display_data"
    }
   ],
   "source": [
    "_ = plt.hist(y, bins='auto')  # arguments are passed to np.histogram\n",
    "plt.title(\"Target\")\n",
    "plt.show()"
   ]
  },
  {
   "cell_type": "code",
   "execution_count": 11,
   "metadata": {},
   "outputs": [
    {
     "name": "stdout",
     "output_type": "stream",
     "text": [
      "N:310, p:73\n"
     ]
    }
   ],
   "source": [
    "N = X_train.shape[0]\n",
    "p = X_train.shape[1]\n",
    "print('N:{}, p:{}'.format(N,p))"
   ]
  },
  {
   "cell_type": "markdown",
   "metadata": {},
   "source": [
    "## <font color='blue'>2. Fit DNN model</font>"
   ]
  },
  {
   "cell_type": "markdown",
   "metadata": {},
   "source": [
    "### 2-1. Generate tensor slices"
   ]
  },
  {
   "cell_type": "code",
   "execution_count": 29,
   "metadata": {},
   "outputs": [],
   "source": [
    "tf.random.set_seed(1)\n",
    "train_ds = tf.data.Dataset.from_tensor_slices((X_train, y_train)).shuffle(1000).batch(10).repeat()\n",
    "test_ds = tf.data.Dataset.from_tensor_slices((X_test, y_test))"
   ]
  },
  {
   "cell_type": "markdown",
   "metadata": {},
   "source": [
    "### 2-2. Model specification"
   ]
  },
  {
   "cell_type": "code",
   "execution_count": 30,
   "metadata": {},
   "outputs": [],
   "source": [
    "dnn_model = tf.keras.Sequential(\n",
    "        [\n",
    "        tf.keras.layers.Input(shape=(X_train.shape[1],), name='input'),\n",
    "        tf.keras.layers.Dense(256, activation='relu'),\n",
    "        tf.keras.layers.Dense(32, activation='relu'),\n",
    "        tf.keras.layers.Dense(1, activation='sigmoid')\n",
    "        ]\n",
    "    )"
   ]
  },
  {
   "cell_type": "code",
   "execution_count": 31,
   "metadata": {},
   "outputs": [
    {
     "name": "stdout",
     "output_type": "stream",
     "text": [
      "Model: \"sequential_2\"\n",
      "_________________________________________________________________\n",
      "Layer (type)                 Output Shape              Param #   \n",
      "=================================================================\n",
      "dense_6 (Dense)              (None, 256)               18944     \n",
      "_________________________________________________________________\n",
      "dense_7 (Dense)              (None, 32)                8224      \n",
      "_________________________________________________________________\n",
      "dense_8 (Dense)              (None, 1)                 33        \n",
      "=================================================================\n",
      "Total params: 27,201\n",
      "Trainable params: 27,201\n",
      "Non-trainable params: 0\n",
      "_________________________________________________________________\n"
     ]
    }
   ],
   "source": [
    "dnn_model.summary()"
   ]
  },
  {
   "cell_type": "markdown",
   "metadata": {},
   "source": [
    "### 2-3. Set model optimization hyperparameters"
   ]
  },
  {
   "cell_type": "code",
   "execution_count": 32,
   "metadata": {},
   "outputs": [],
   "source": [
    "dnn_model.compile(\n",
    "    loss=tf.keras.losses.BinaryCrossentropy(name='loss'),\n",
    "    optimizer=tf.keras.optimizers.Adam(learning_rate = 0.001),\n",
    "    metrics=[tf.keras.metrics.BinaryAccuracy(name='acc')]\n",
    ")    "
   ]
  },
  {
   "cell_type": "markdown",
   "metadata": {},
   "source": [
    "### 2-4 Fit DNN"
   ]
  },
  {
   "cell_type": "code",
   "execution_count": 33,
   "metadata": {},
   "outputs": [
    {
     "name": "stdout",
     "output_type": "stream",
     "text": [
      "Epoch 1/10\n",
      "200/200 [==============================] - 0s 1ms/step - loss: 0.5589 - acc: 0.7120 - val_loss: 0.6454 - val_acc: 0.6538\n",
      "Epoch 2/10\n",
      "200/200 [==============================] - 0s 953us/step - loss: 0.3577 - acc: 0.8500 - val_loss: 0.6738 - val_acc: 0.6410\n",
      "Epoch 3/10\n",
      "200/200 [==============================] - 0s 964us/step - loss: 0.2181 - acc: 0.9210 - val_loss: 0.7140 - val_acc: 0.7436\n",
      "Epoch 4/10\n",
      "200/200 [==============================] - 0s 993us/step - loss: 0.1309 - acc: 0.9620 - val_loss: 0.7893 - val_acc: 0.7821\n",
      "Epoch 5/10\n",
      "200/200 [==============================] - 0s 1ms/step - loss: 0.1081 - acc: 0.9620 - val_loss: 0.9773 - val_acc: 0.7308\n",
      "Epoch 6/10\n",
      "200/200 [==============================] - 0s 1ms/step - loss: 0.0764 - acc: 0.9735 - val_loss: 1.0163 - val_acc: 0.7692\n",
      "Epoch 7/10\n",
      "200/200 [==============================] - 0s 981us/step - loss: 0.0595 - acc: 0.9805 - val_loss: 1.0183 - val_acc: 0.7821\n",
      "Epoch 8/10\n",
      "200/200 [==============================] - 0s 964us/step - loss: 0.0681 - acc: 0.9765 - val_loss: 1.2449 - val_acc: 0.7051\n",
      "Epoch 9/10\n",
      "200/200 [==============================] - 0s 998us/step - loss: 0.0476 - acc: 0.9825 - val_loss: 1.1207 - val_acc: 0.7821\n",
      "Epoch 10/10\n",
      "200/200 [==============================] - 0s 981us/step - loss: 0.0384 - acc: 0.9870 - val_loss: 1.2440 - val_acc: 0.7692\n"
     ]
    }
   ],
   "source": [
    "EVALUATION_INTERVAL = 200\n",
    "EPOCHS = 10\n",
    "    \n",
    "history = dnn_model.fit(train_ds,\n",
    "                        epochs=EPOCHS,\n",
    "                        steps_per_epoch=EVALUATION_INTERVAL,\n",
    "                        validation_data=(X_test, y_test))"
   ]
  },
  {
   "cell_type": "code",
   "execution_count": 34,
   "metadata": {},
   "outputs": [
    {
     "data": {
      "image/png": "[encoded data removed]",
      "text/plain": [
       "<Figure size 432x288 with 1 Axes>"
      ]
     },
     "metadata": {
      "needs_background": "light"
     },
     "output_type": "display_data"
    }
   ],
   "source": [
    "plt.plot(history.history['acc'], label=\"acc\")\n",
    "plt.plot(history.history['val_acc'], label=\"val_acc\")\n",
    "plt.legend(loc=\"upper right\")\n",
    "plt.show()"
   ]
  },
  {
   "cell_type": "code",
   "execution_count": 36,
   "metadata": {},
   "outputs": [
    {
     "name": "stdout",
     "output_type": "stream",
     "text": [
      "Train RMSE:0.987 / Test RMSE:0.777\n"
     ]
    }
   ],
   "source": [
    "pred_dnn_train = np.round(dnn_model.predict(X_train))\n",
    "pred_dnn_test = np.round(dnn_model.predict(X_test))\n",
    "print('Train RMSE:{:3.3f} / Test RMSE:{:3.3f}'.format(\n",
    "            roc_auc_score(y_train,pred_dnn_train),\n",
    "            roc_auc_score(y_test,pred_dnn_test)))"
   ]
  },
  {
   "cell_type": "markdown",
   "metadata": {},
   "source": [
    "## <font color='blue'>3. Mixture Linear Model</font>"
   ]
  },
  {
   "cell_type": "code",
   "execution_count": 37,
   "metadata": {
    "scrolled": false
   },
   "outputs": [],
   "source": [
    "import mixturelinearmodel\n",
    "from mixturelinearmodel import MixtureLinearModel"
   ]
  },
  {
   "cell_type": "code",
   "execution_count": 38,
   "metadata": {},
   "outputs": [],
   "source": [
    "MLM = MixtureLinearModel(dnn_model, verbose=True)"
   ]
  },
  {
   "cell_type": "code",
   "execution_count": 39,
   "metadata": {
    "scrolled": false
   },
   "outputs": [
    {
     "name": "stderr",
     "output_type": "stream",
     "text": [
      "100%|██████████| 2/2 [00:00<00:00,  8.38it/s]"
     ]
    },
    {
     "name": "stdout",
     "output_type": "stream",
     "text": [
      "# of CELL:77 / min size:1 / avg size:4.0 / max size:15 / # of singlton CELL:22\n"
     ]
    },
    {
     "name": "stderr",
     "output_type": "stream",
     "text": [
      "\n"
     ]
    }
   ],
   "source": [
    "MLM.compute_CELL(X_train,K=13,random_seed=1)"
   ]
  },
  {
   "cell_type": "code",
   "execution_count": 40,
   "metadata": {
    "scrolled": true
   },
   "outputs": [
    {
     "name": "stderr",
     "output_type": "stream",
     "text": [
      "100%|██████████| 77/77 [00:01<00:00, 43.58it/s]\n",
      "  1%|▏         | 1/77 [00:02<03:06,  2.46s/it]"
     ]
    },
    {
     "name": "stdout",
     "output_type": "stream",
     "text": [
      "Optimization terminated successfully    (Exit mode 0)\n",
      "            Current function value: 0.1154488088660373\n",
      "            Iterations: 406\n",
      "            Function evaluations: 407\n",
      "            Gradient evaluations: 406\n"
     ]
    },
    {
     "name": "stderr",
     "output_type": "stream",
     "text": [
      "\r",
      "  3%|▎         | 2/77 [00:04<02:56,  2.35s/it]"
     ]
    },
    {
     "name": "stdout",
     "output_type": "stream",
     "text": [
      "Optimization terminated successfully    (Exit mode 0)\n",
      "            Current function value: 0.1115622348594662\n",
      "            Iterations: 377\n",
      "            Function evaluations: 378\n",
      "            Gradient evaluations: 377\n"
     ]
    },
    {
     "name": "stderr",
     "output_type": "stream",
     "text": [
      "\r",
      "  4%|▍         | 3/77 [00:06<02:52,  2.33s/it]"
     ]
    },
    {
     "name": "stdout",
     "output_type": "stream",
     "text": [
      "Optimization terminated successfully    (Exit mode 0)\n",
      "            Current function value: 0.07916343978924967\n",
      "            Iterations: 354\n",
      "            Function evaluations: 354\n",
      "            Gradient evaluations: 354\n"
     ]
    },
    {
     "name": "stderr",
     "output_type": "stream",
     "text": [
      "\r",
      "  5%|▌         | 4/77 [00:09<03:01,  2.48s/it]"
     ]
    },
    {
     "name": "stdout",
     "output_type": "stream",
     "text": [
      "Optimization terminated successfully    (Exit mode 0)\n",
      "            Current function value: 0.11323120705831588\n",
      "            Iterations: 443\n",
      "            Function evaluations: 443\n",
      "            Gradient evaluations: 443\n"
     ]
    },
    {
     "name": "stderr",
     "output_type": "stream",
     "text": [
      "\r",
      "  6%|▋         | 5/77 [00:12<03:01,  2.52s/it]"
     ]
    },
    {
     "name": "stdout",
     "output_type": "stream",
     "text": [
      "Optimization terminated successfully    (Exit mode 0)\n",
      "            Current function value: 0.10276827885056751\n",
      "            Iterations: 415\n",
      "            Function evaluations: 415\n",
      "            Gradient evaluations: 415\n"
     ]
    },
    {
     "name": "stderr",
     "output_type": "stream",
     "text": [
      "\r",
      "  8%|▊         | 6/77 [00:14<03:02,  2.57s/it]"
     ]
    },
    {
     "name": "stdout",
     "output_type": "stream",
     "text": [
      "Optimization terminated successfully    (Exit mode 0)\n",
      "            Current function value: 0.12357757610898279\n",
      "            Iterations: 427\n",
      "            Function evaluations: 428\n",
      "            Gradient evaluations: 427\n"
     ]
    },
    {
     "name": "stderr",
     "output_type": "stream",
     "text": [
      "\r",
      "  9%|▉         | 7/77 [00:17<02:51,  2.45s/it]"
     ]
    },
    {
     "name": "stdout",
     "output_type": "stream",
     "text": [
      "Optimization terminated successfully    (Exit mode 0)\n",
      "            Current function value: 0.11478301895544898\n",
      "            Iterations: 377\n",
      "            Function evaluations: 377\n",
      "            Gradient evaluations: 377\n"
     ]
    },
    {
     "name": "stderr",
     "output_type": "stream",
     "text": [
      "\r",
      " 10%|█         | 8/77 [00:19<02:46,  2.42s/it]"
     ]
    },
    {
     "name": "stdout",
     "output_type": "stream",
     "text": [
      "Optimization terminated successfully    (Exit mode 0)\n",
      "            Current function value: 0.10188495758716778\n",
      "            Iterations: 381\n",
      "            Function evaluations: 381\n",
      "            Gradient evaluations: 381\n"
     ]
    },
    {
     "name": "stderr",
     "output_type": "stream",
     "text": [
      "\r",
      " 12%|█▏        | 9/77 [00:21<02:40,  2.35s/it]"
     ]
    },
    {
     "name": "stdout",
     "output_type": "stream",
     "text": [
      "Optimization terminated successfully    (Exit mode 0)\n",
      "            Current function value: 0.10427613173167605\n",
      "            Iterations: 350\n",
      "            Function evaluations: 350\n",
      "            Gradient evaluations: 350\n"
     ]
    },
    {
     "name": "stderr",
     "output_type": "stream",
     "text": [
      "\r",
      " 13%|█▎        | 10/77 [00:24<02:38,  2.37s/it]"
     ]
    },
    {
     "name": "stdout",
     "output_type": "stream",
     "text": [
      "Optimization terminated successfully    (Exit mode 0)\n",
      "            Current function value: 0.10888321919329381\n",
      "            Iterations: 389\n",
      "            Function evaluations: 389\n",
      "            Gradient evaluations: 389\n"
     ]
    },
    {
     "name": "stderr",
     "output_type": "stream",
     "text": [
      "\r",
      " 14%|█▍        | 11/77 [00:26<02:35,  2.35s/it]"
     ]
    },
    {
     "name": "stdout",
     "output_type": "stream",
     "text": [
      "Optimization terminated successfully    (Exit mode 0)\n",
      "            Current function value: 0.11180647375105489\n",
      "            Iterations: 367\n",
      "            Function evaluations: 368\n",
      "            Gradient evaluations: 367\n"
     ]
    },
    {
     "name": "stderr",
     "output_type": "stream",
     "text": [
      "\r",
      " 16%|█▌        | 12/77 [00:28<02:28,  2.29s/it]"
     ]
    },
    {
     "name": "stdout",
     "output_type": "stream",
     "text": [
      "Optimization terminated successfully    (Exit mode 0)\n",
      "            Current function value: 0.07653586823365632\n",
      "            Iterations: 346\n",
      "            Function evaluations: 347\n",
      "            Gradient evaluations: 346\n"
     ]
    },
    {
     "name": "stderr",
     "output_type": "stream",
     "text": [
      "\r",
      " 17%|█▋        | 13/77 [00:30<02:27,  2.30s/it]"
     ]
    },
    {
     "name": "stdout",
     "output_type": "stream",
     "text": [
      "Optimization terminated successfully    (Exit mode 0)\n",
      "            Current function value: 0.11880480632987857\n",
      "            Iterations: 381\n",
      "            Function evaluations: 382\n",
      "            Gradient evaluations: 381\n"
     ]
    },
    {
     "name": "stderr",
     "output_type": "stream",
     "text": [
      "\r",
      " 18%|█▊        | 14/77 [00:33<02:32,  2.43s/it]"
     ]
    },
    {
     "name": "stdout",
     "output_type": "stream",
     "text": [
      "Optimization terminated successfully    (Exit mode 0)\n",
      "            Current function value: 0.11462704647280395\n",
      "            Iterations: 398\n",
      "            Function evaluations: 398\n",
      "            Gradient evaluations: 398\n"
     ]
    },
    {
     "name": "stderr",
     "output_type": "stream",
     "text": [
      "\r",
      " 19%|█▉        | 15/77 [00:36<02:31,  2.44s/it]"
     ]
    },
    {
     "name": "stdout",
     "output_type": "stream",
     "text": [
      "Optimization terminated successfully    (Exit mode 0)\n",
      "            Current function value: 0.11175149107190772\n",
      "            Iterations: 391\n",
      "            Function evaluations: 392\n",
      "            Gradient evaluations: 391\n"
     ]
    },
    {
     "name": "stderr",
     "output_type": "stream",
     "text": [
      "\r",
      " 21%|██        | 16/77 [00:38<02:28,  2.43s/it]"
     ]
    },
    {
     "name": "stdout",
     "output_type": "stream",
     "text": [
      "Optimization terminated successfully    (Exit mode 0)\n",
      "            Current function value: 0.10544187334207122\n",
      "            Iterations: 398\n",
      "            Function evaluations: 399\n",
      "            Gradient evaluations: 398\n"
     ]
    },
    {
     "name": "stderr",
     "output_type": "stream",
     "text": [
      "\r",
      " 22%|██▏       | 17/77 [00:41<02:27,  2.47s/it]"
     ]
    },
    {
     "name": "stdout",
     "output_type": "stream",
     "text": [
      "Optimization terminated successfully    (Exit mode 0)\n",
      "            Current function value: 0.11547531750551346\n",
      "            Iterations: 419\n",
      "            Function evaluations: 420\n",
      "            Gradient evaluations: 419\n"
     ]
    },
    {
     "name": "stderr",
     "output_type": "stream",
     "text": [
      "\r",
      " 23%|██▎       | 18/77 [00:43<02:21,  2.39s/it]"
     ]
    },
    {
     "name": "stdout",
     "output_type": "stream",
     "text": [
      "Optimization terminated successfully    (Exit mode 0)\n",
      "            Current function value: 0.0770909692705542\n",
      "            Iterations: 359\n",
      "            Function evaluations: 359\n",
      "            Gradient evaluations: 359\n"
     ]
    },
    {
     "name": "stderr",
     "output_type": "stream",
     "text": [
      "\r",
      " 25%|██▍       | 19/77 [00:45<02:19,  2.40s/it]"
     ]
    },
    {
     "name": "stdout",
     "output_type": "stream",
     "text": [
      "Optimization terminated successfully    (Exit mode 0)\n",
      "            Current function value: 0.11840585356230353\n",
      "            Iterations: 396\n",
      "            Function evaluations: 397\n",
      "            Gradient evaluations: 396\n"
     ]
    },
    {
     "name": "stderr",
     "output_type": "stream",
     "text": [
      "\r",
      " 26%|██▌       | 20/77 [00:48<02:27,  2.58s/it]"
     ]
    },
    {
     "name": "stdout",
     "output_type": "stream",
     "text": [
      "Optimization terminated successfully    (Exit mode 0)\n",
      "            Current function value: 0.11837775187787986\n",
      "            Iterations: 461\n",
      "            Function evaluations: 461\n",
      "            Gradient evaluations: 461\n"
     ]
    },
    {
     "name": "stderr",
     "output_type": "stream",
     "text": [
      "\r",
      " 27%|██▋       | 21/77 [00:51<02:29,  2.67s/it]"
     ]
    },
    {
     "name": "stdout",
     "output_type": "stream",
     "text": [
      "Optimization terminated successfully    (Exit mode 0)\n",
      "            Current function value: 0.05723811069341166\n",
      "            Iterations: 354\n",
      "            Function evaluations: 354\n",
      "            Gradient evaluations: 354\n"
     ]
    },
    {
     "name": "stderr",
     "output_type": "stream",
     "text": [
      "\r",
      " 29%|██▊       | 22/77 [00:54<02:27,  2.69s/it]"
     ]
    },
    {
     "name": "stdout",
     "output_type": "stream",
     "text": [
      "Optimization terminated successfully    (Exit mode 0)\n",
      "            Current function value: 0.11787779021316665\n",
      "            Iterations: 401\n",
      "            Function evaluations: 402\n",
      "            Gradient evaluations: 401\n"
     ]
    },
    {
     "name": "stderr",
     "output_type": "stream",
     "text": [
      "\r",
      " 30%|██▉       | 23/77 [00:56<02:17,  2.55s/it]"
     ]
    },
    {
     "name": "stdout",
     "output_type": "stream",
     "text": [
      "Optimization terminated successfully    (Exit mode 0)\n",
      "            Current function value: 0.09494625472820008\n",
      "            Iterations: 358\n",
      "            Function evaluations: 358\n",
      "            Gradient evaluations: 358\n"
     ]
    },
    {
     "name": "stderr",
     "output_type": "stream",
     "text": [
      "\r",
      " 31%|███       | 24/77 [00:58<02:10,  2.47s/it]"
     ]
    },
    {
     "name": "stdout",
     "output_type": "stream",
     "text": [
      "Optimization terminated successfully    (Exit mode 0)\n",
      "            Current function value: 0.10818220142251456\n",
      "            Iterations: 374\n",
      "            Function evaluations: 375\n",
      "            Gradient evaluations: 374\n"
     ]
    },
    {
     "name": "stderr",
     "output_type": "stream",
     "text": [
      "\r",
      " 32%|███▏      | 25/77 [01:01<02:09,  2.48s/it]"
     ]
    },
    {
     "name": "stdout",
     "output_type": "stream",
     "text": [
      "Optimization terminated successfully    (Exit mode 0)\n",
      "            Current function value: 0.11906324452081027\n",
      "            Iterations: 418\n",
      "            Function evaluations: 418\n",
      "            Gradient evaluations: 418\n"
     ]
    },
    {
     "name": "stderr",
     "output_type": "stream",
     "text": [
      "\r",
      " 34%|███▍      | 26/77 [01:03<02:04,  2.44s/it]"
     ]
    },
    {
     "name": "stdout",
     "output_type": "stream",
     "text": [
      "Optimization terminated successfully    (Exit mode 0)\n",
      "            Current function value: 0.10593926535144432\n",
      "            Iterations: 358\n",
      "            Function evaluations: 359\n",
      "            Gradient evaluations: 358\n"
     ]
    },
    {
     "name": "stderr",
     "output_type": "stream",
     "text": [
      "\r",
      " 35%|███▌      | 27/77 [01:06<02:03,  2.47s/it]"
     ]
    },
    {
     "name": "stdout",
     "output_type": "stream",
     "text": [
      "Optimization terminated successfully    (Exit mode 0)\n",
      "            Current function value: 0.07893179246055648\n",
      "            Iterations: 386\n",
      "            Function evaluations: 386\n",
      "            Gradient evaluations: 386\n"
     ]
    },
    {
     "name": "stderr",
     "output_type": "stream",
     "text": [
      "\r",
      " 36%|███▋      | 28/77 [01:08<02:02,  2.50s/it]"
     ]
    },
    {
     "name": "stdout",
     "output_type": "stream",
     "text": [
      "Optimization terminated successfully    (Exit mode 0)\n",
      "            Current function value: 0.11295384162944158\n",
      "            Iterations: 420\n",
      "            Function evaluations: 420\n",
      "            Gradient evaluations: 420\n"
     ]
    },
    {
     "name": "stderr",
     "output_type": "stream",
     "text": [
      "\r",
      " 38%|███▊      | 29/77 [01:11<02:01,  2.53s/it]"
     ]
    },
    {
     "name": "stdout",
     "output_type": "stream",
     "text": [
      "Optimization terminated successfully    (Exit mode 0)\n",
      "            Current function value: 0.11608522913791319\n",
      "            Iterations: 428\n",
      "            Function evaluations: 428\n",
      "            Gradient evaluations: 428\n"
     ]
    },
    {
     "name": "stderr",
     "output_type": "stream",
     "text": [
      "\r",
      " 39%|███▉      | 30/77 [01:13<01:54,  2.44s/it]"
     ]
    },
    {
     "name": "stdout",
     "output_type": "stream",
     "text": [
      "Optimization terminated successfully    (Exit mode 0)\n",
      "            Current function value: 0.07408165713997336\n",
      "            Iterations: 368\n",
      "            Function evaluations: 368\n",
      "            Gradient evaluations: 368\n"
     ]
    },
    {
     "name": "stderr",
     "output_type": "stream",
     "text": [
      "\r",
      " 40%|████      | 31/77 [01:16<01:52,  2.44s/it]"
     ]
    },
    {
     "name": "stdout",
     "output_type": "stream",
     "text": [
      "Optimization terminated successfully    (Exit mode 0)\n",
      "            Current function value: 0.08713967092837638\n",
      "            Iterations: 396\n",
      "            Function evaluations: 397\n",
      "            Gradient evaluations: 396\n"
     ]
    },
    {
     "name": "stderr",
     "output_type": "stream",
     "text": [
      "\r",
      " 42%|████▏     | 32/77 [01:18<01:45,  2.35s/it]"
     ]
    },
    {
     "name": "stdout",
     "output_type": "stream",
     "text": [
      "Optimization terminated successfully    (Exit mode 0)\n",
      "            Current function value: 0.11041818361616602\n",
      "            Iterations: 360\n",
      "            Function evaluations: 360\n",
      "            Gradient evaluations: 360\n"
     ]
    },
    {
     "name": "stderr",
     "output_type": "stream",
     "text": [
      "\r",
      " 43%|████▎     | 33/77 [01:21<01:52,  2.56s/it]"
     ]
    },
    {
     "name": "stdout",
     "output_type": "stream",
     "text": [
      "Optimization terminated successfully    (Exit mode 0)\n",
      "            Current function value: 0.12028696993912637\n",
      "            Iterations: 439\n",
      "            Function evaluations: 439\n",
      "            Gradient evaluations: 439\n"
     ]
    },
    {
     "name": "stderr",
     "output_type": "stream",
     "text": [
      "\r",
      " 44%|████▍     | 34/77 [01:23<01:50,  2.56s/it]"
     ]
    },
    {
     "name": "stdout",
     "output_type": "stream",
     "text": [
      "Optimization terminated successfully    (Exit mode 0)\n",
      "            Current function value: 0.13911773539706923\n",
      "            Iterations: 390\n",
      "            Function evaluations: 390\n",
      "            Gradient evaluations: 390\n"
     ]
    },
    {
     "name": "stderr",
     "output_type": "stream",
     "text": [
      "\r",
      " 45%|████▌     | 35/77 [01:25<01:42,  2.44s/it]"
     ]
    },
    {
     "name": "stdout",
     "output_type": "stream",
     "text": [
      "Optimization terminated successfully    (Exit mode 0)\n",
      "            Current function value: 0.06783687874764177\n",
      "            Iterations: 351\n",
      "            Function evaluations: 351\n",
      "            Gradient evaluations: 351\n"
     ]
    },
    {
     "name": "stderr",
     "output_type": "stream",
     "text": [
      "\r",
      " 47%|████▋     | 36/77 [01:28<01:42,  2.51s/it]"
     ]
    },
    {
     "name": "stdout",
     "output_type": "stream",
     "text": [
      "Optimization terminated successfully    (Exit mode 0)\n",
      "            Current function value: 0.10912545872134656\n",
      "            Iterations: 445\n",
      "            Function evaluations: 445\n",
      "            Gradient evaluations: 445\n"
     ]
    },
    {
     "name": "stderr",
     "output_type": "stream",
     "text": [
      "\r",
      " 48%|████▊     | 37/77 [01:30<01:38,  2.46s/it]"
     ]
    },
    {
     "name": "stdout",
     "output_type": "stream",
     "text": [
      "Optimization terminated successfully    (Exit mode 0)\n",
      "            Current function value: 0.10979566057164375\n",
      "            Iterations: 384\n",
      "            Function evaluations: 384\n",
      "            Gradient evaluations: 384\n"
     ]
    },
    {
     "name": "stderr",
     "output_type": "stream",
     "text": [
      "\r",
      " 49%|████▉     | 38/77 [01:33<01:32,  2.38s/it]"
     ]
    },
    {
     "name": "stdout",
     "output_type": "stream",
     "text": [
      "Optimization terminated successfully    (Exit mode 0)\n",
      "            Current function value: 0.12905007969862262\n",
      "            Iterations: 365\n",
      "            Function evaluations: 366\n",
      "            Gradient evaluations: 365\n"
     ]
    },
    {
     "name": "stderr",
     "output_type": "stream",
     "text": [
      "\r",
      " 51%|█████     | 39/77 [01:35<01:33,  2.46s/it]"
     ]
    },
    {
     "name": "stdout",
     "output_type": "stream",
     "text": [
      "Optimization terminated successfully    (Exit mode 0)\n",
      "            Current function value: 0.10415871748192886\n",
      "            Iterations: 402\n",
      "            Function evaluations: 403\n",
      "            Gradient evaluations: 402\n"
     ]
    },
    {
     "name": "stderr",
     "output_type": "stream",
     "text": [
      "\r",
      " 52%|█████▏    | 40/77 [01:38<01:30,  2.44s/it]"
     ]
    },
    {
     "name": "stdout",
     "output_type": "stream",
     "text": [
      "Optimization terminated successfully    (Exit mode 0)\n",
      "            Current function value: 0.10186662968002481\n",
      "            Iterations: 367\n",
      "            Function evaluations: 367\n",
      "            Gradient evaluations: 367\n"
     ]
    },
    {
     "name": "stderr",
     "output_type": "stream",
     "text": [
      "\r",
      " 53%|█████▎    | 41/77 [01:40<01:26,  2.41s/it]"
     ]
    },
    {
     "name": "stdout",
     "output_type": "stream",
     "text": [
      "Optimization terminated successfully    (Exit mode 0)\n",
      "            Current function value: 0.07746421559290023\n",
      "            Iterations: 373\n",
      "            Function evaluations: 373\n",
      "            Gradient evaluations: 373\n"
     ]
    },
    {
     "name": "stderr",
     "output_type": "stream",
     "text": [
      "\r",
      " 55%|█████▍    | 42/77 [01:43<01:26,  2.46s/it]"
     ]
    },
    {
     "name": "stdout",
     "output_type": "stream",
     "text": [
      "Optimization terminated successfully    (Exit mode 0)\n",
      "            Current function value: 0.11289830818467811\n",
      "            Iterations: 425\n",
      "            Function evaluations: 425\n",
      "            Gradient evaluations: 425\n"
     ]
    },
    {
     "name": "stderr",
     "output_type": "stream",
     "text": [
      "\r",
      " 56%|█████▌    | 43/77 [01:45<01:25,  2.51s/it]"
     ]
    },
    {
     "name": "stdout",
     "output_type": "stream",
     "text": [
      "Optimization terminated successfully    (Exit mode 0)\n",
      "            Current function value: 0.1469802343533525\n",
      "            Iterations: 433\n",
      "            Function evaluations: 433\n",
      "            Gradient evaluations: 433\n"
     ]
    },
    {
     "name": "stderr",
     "output_type": "stream",
     "text": [
      "\r",
      " 57%|█████▋    | 44/77 [01:48<01:22,  2.51s/it]"
     ]
    },
    {
     "name": "stdout",
     "output_type": "stream",
     "text": [
      "Optimization terminated successfully    (Exit mode 0)\n",
      "            Current function value: 0.08881779150827562\n",
      "            Iterations: 411\n",
      "            Function evaluations: 412\n",
      "            Gradient evaluations: 411\n"
     ]
    },
    {
     "name": "stderr",
     "output_type": "stream",
     "text": [
      "\r",
      " 58%|█████▊    | 45/77 [01:50<01:19,  2.48s/it]"
     ]
    },
    {
     "name": "stdout",
     "output_type": "stream",
     "text": [
      "Optimization terminated successfully    (Exit mode 0)\n",
      "            Current function value: 0.1346357653381228\n",
      "            Iterations: 401\n",
      "            Function evaluations: 402\n",
      "            Gradient evaluations: 401\n"
     ]
    },
    {
     "name": "stderr",
     "output_type": "stream",
     "text": [
      "\r",
      " 60%|█████▉    | 46/77 [01:53<01:21,  2.62s/it]"
     ]
    },
    {
     "name": "stdout",
     "output_type": "stream",
     "text": [
      "Optimization terminated successfully    (Exit mode 0)\n",
      "            Current function value: 0.12281719509587155\n",
      "            Iterations: 436\n",
      "            Function evaluations: 436\n",
      "            Gradient evaluations: 436\n"
     ]
    },
    {
     "name": "stderr",
     "output_type": "stream",
     "text": [
      "\r",
      " 61%|██████    | 47/77 [01:55<01:16,  2.56s/it]"
     ]
    },
    {
     "name": "stdout",
     "output_type": "stream",
     "text": [
      "Optimization terminated successfully    (Exit mode 0)\n",
      "            Current function value: 0.1300876862855463\n",
      "            Iterations: 383\n",
      "            Function evaluations: 384\n",
      "            Gradient evaluations: 383\n"
     ]
    },
    {
     "name": "stderr",
     "output_type": "stream",
     "text": [
      "\r",
      " 62%|██████▏   | 48/77 [01:58<01:11,  2.47s/it]"
     ]
    },
    {
     "name": "stdout",
     "output_type": "stream",
     "text": [
      "Optimization terminated successfully    (Exit mode 0)\n",
      "            Current function value: 0.11703743875392716\n",
      "            Iterations: 383\n",
      "            Function evaluations: 384\n",
      "            Gradient evaluations: 383\n"
     ]
    },
    {
     "name": "stderr",
     "output_type": "stream",
     "text": [
      "\r",
      " 64%|██████▎   | 49/77 [02:00<01:06,  2.39s/it]"
     ]
    },
    {
     "name": "stdout",
     "output_type": "stream",
     "text": [
      "Optimization terminated successfully    (Exit mode 0)\n",
      "            Current function value: 0.09422812537743717\n",
      "            Iterations: 356\n",
      "            Function evaluations: 357\n",
      "            Gradient evaluations: 356\n"
     ]
    },
    {
     "name": "stderr",
     "output_type": "stream",
     "text": [
      "\r",
      " 65%|██████▍   | 50/77 [02:02<01:00,  2.23s/it]"
     ]
    },
    {
     "name": "stdout",
     "output_type": "stream",
     "text": [
      "Optimization terminated successfully    (Exit mode 0)\n",
      "            Current function value: 0.07136564573319609\n",
      "            Iterations: 305\n",
      "            Function evaluations: 305\n",
      "            Gradient evaluations: 305\n"
     ]
    },
    {
     "name": "stderr",
     "output_type": "stream",
     "text": [
      "\r",
      " 66%|██████▌   | 51/77 [02:04<00:56,  2.19s/it]"
     ]
    },
    {
     "name": "stdout",
     "output_type": "stream",
     "text": [
      "Optimization terminated successfully    (Exit mode 0)\n",
      "            Current function value: 0.11849816523772871\n",
      "            Iterations: 350\n",
      "            Function evaluations: 350\n",
      "            Gradient evaluations: 350\n"
     ]
    },
    {
     "name": "stderr",
     "output_type": "stream",
     "text": [
      "\r",
      " 68%|██████▊   | 52/77 [02:06<00:55,  2.21s/it]"
     ]
    },
    {
     "name": "stdout",
     "output_type": "stream",
     "text": [
      "Optimization terminated successfully    (Exit mode 0)\n",
      "            Current function value: 0.1018287074401448\n",
      "            Iterations: 369\n",
      "            Function evaluations: 369\n",
      "            Gradient evaluations: 369\n"
     ]
    },
    {
     "name": "stderr",
     "output_type": "stream",
     "text": [
      "\r",
      " 69%|██████▉   | 53/77 [02:09<00:55,  2.33s/it]"
     ]
    },
    {
     "name": "stdout",
     "output_type": "stream",
     "text": [
      "Optimization terminated successfully    (Exit mode 0)\n",
      "            Current function value: 0.0775989851918501\n",
      "            Iterations: 369\n",
      "            Function evaluations: 370\n",
      "            Gradient evaluations: 369\n"
     ]
    },
    {
     "name": "stderr",
     "output_type": "stream",
     "text": [
      "\r",
      " 70%|███████   | 54/77 [02:11<00:54,  2.36s/it]"
     ]
    },
    {
     "name": "stdout",
     "output_type": "stream",
     "text": [
      "Optimization terminated successfully    (Exit mode 0)\n",
      "            Current function value: 0.1095126626705296\n",
      "            Iterations: 388\n",
      "            Function evaluations: 388\n",
      "            Gradient evaluations: 388\n"
     ]
    },
    {
     "name": "stderr",
     "output_type": "stream",
     "text": [
      "\r",
      " 71%|███████▏  | 55/77 [02:13<00:49,  2.25s/it]"
     ]
    },
    {
     "name": "stdout",
     "output_type": "stream",
     "text": [
      "Optimization terminated successfully    (Exit mode 0)\n",
      "            Current function value: 0.04858067762941776\n",
      "            Iterations: 317\n",
      "            Function evaluations: 318\n",
      "            Gradient evaluations: 317\n"
     ]
    },
    {
     "name": "stderr",
     "output_type": "stream",
     "text": [
      "\r",
      " 73%|███████▎  | 56/77 [02:16<00:49,  2.36s/it]"
     ]
    },
    {
     "name": "stdout",
     "output_type": "stream",
     "text": [
      "Optimization terminated successfully    (Exit mode 0)\n",
      "            Current function value: 0.08060371116299268\n",
      "            Iterations: 426\n",
      "            Function evaluations: 426\n",
      "            Gradient evaluations: 426\n"
     ]
    },
    {
     "name": "stderr",
     "output_type": "stream",
     "text": [
      "\r",
      " 74%|███████▍  | 57/77 [02:18<00:47,  2.39s/it]"
     ]
    },
    {
     "name": "stdout",
     "output_type": "stream",
     "text": [
      "Optimization terminated successfully    (Exit mode 0)\n",
      "            Current function value: 0.1121377871820933\n",
      "            Iterations: 404\n",
      "            Function evaluations: 404\n",
      "            Gradient evaluations: 404\n"
     ]
    },
    {
     "name": "stderr",
     "output_type": "stream",
     "text": [
      "\r",
      " 75%|███████▌  | 58/77 [02:20<00:43,  2.28s/it]"
     ]
    },
    {
     "name": "stdout",
     "output_type": "stream",
     "text": [
      "Optimization terminated successfully    (Exit mode 0)\n",
      "            Current function value: 0.05211399296928844\n",
      "            Iterations: 325\n",
      "            Function evaluations: 325\n",
      "            Gradient evaluations: 325\n"
     ]
    },
    {
     "name": "stderr",
     "output_type": "stream",
     "text": [
      "\r",
      " 77%|███████▋  | 59/77 [02:23<00:42,  2.35s/it]"
     ]
    },
    {
     "name": "stdout",
     "output_type": "stream",
     "text": [
      "Optimization terminated successfully    (Exit mode 0)\n",
      "            Current function value: 0.11254630807527621\n",
      "            Iterations: 403\n",
      "            Function evaluations: 404\n",
      "            Gradient evaluations: 403\n"
     ]
    },
    {
     "name": "stderr",
     "output_type": "stream",
     "text": [
      "\r",
      " 78%|███████▊  | 60/77 [02:26<00:41,  2.47s/it]"
     ]
    },
    {
     "name": "stdout",
     "output_type": "stream",
     "text": [
      "Optimization terminated successfully    (Exit mode 0)\n",
      "            Current function value: 0.10266887644386398\n",
      "            Iterations: 415\n",
      "            Function evaluations: 416\n",
      "            Gradient evaluations: 415\n"
     ]
    },
    {
     "name": "stderr",
     "output_type": "stream",
     "text": [
      "\r",
      " 79%|███████▉  | 61/77 [02:28<00:38,  2.42s/it]"
     ]
    },
    {
     "name": "stdout",
     "output_type": "stream",
     "text": [
      "Optimization terminated successfully    (Exit mode 0)\n",
      "            Current function value: 0.10061000218563933\n",
      "            Iterations: 370\n",
      "            Function evaluations: 370\n",
      "            Gradient evaluations: 370\n"
     ]
    },
    {
     "name": "stderr",
     "output_type": "stream",
     "text": [
      "\r",
      " 81%|████████  | 62/77 [02:30<00:35,  2.36s/it]"
     ]
    },
    {
     "name": "stdout",
     "output_type": "stream",
     "text": [
      "Optimization terminated successfully    (Exit mode 0)\n",
      "            Current function value: 0.08218461440733531\n",
      "            Iterations: 363\n",
      "            Function evaluations: 363\n",
      "            Gradient evaluations: 363\n"
     ]
    },
    {
     "name": "stderr",
     "output_type": "stream",
     "text": [
      "\r",
      " 82%|████████▏ | 63/77 [02:33<00:33,  2.40s/it]"
     ]
    },
    {
     "name": "stdout",
     "output_type": "stream",
     "text": [
      "Optimization terminated successfully    (Exit mode 0)\n",
      "            Current function value: 0.12133533357924439\n",
      "            Iterations: 419\n",
      "            Function evaluations: 419\n",
      "            Gradient evaluations: 419\n"
     ]
    },
    {
     "name": "stderr",
     "output_type": "stream",
     "text": [
      "\r",
      " 83%|████████▎ | 64/77 [02:35<00:31,  2.43s/it]"
     ]
    },
    {
     "name": "stdout",
     "output_type": "stream",
     "text": [
      "Optimization terminated successfully    (Exit mode 0)\n",
      "            Current function value: 0.11938093731059485\n",
      "            Iterations: 410\n",
      "            Function evaluations: 411\n",
      "            Gradient evaluations: 410\n"
     ]
    },
    {
     "name": "stderr",
     "output_type": "stream",
     "text": [
      "\r",
      " 84%|████████▍ | 65/77 [02:37<00:28,  2.37s/it]"
     ]
    },
    {
     "name": "stdout",
     "output_type": "stream",
     "text": [
      "Optimization terminated successfully    (Exit mode 0)\n",
      "            Current function value: 0.11443652925189418\n",
      "            Iterations: 365\n",
      "            Function evaluations: 365\n",
      "            Gradient evaluations: 365\n"
     ]
    },
    {
     "name": "stderr",
     "output_type": "stream",
     "text": [
      "\r",
      " 86%|████████▌ | 66/77 [02:40<00:27,  2.48s/it]"
     ]
    },
    {
     "name": "stdout",
     "output_type": "stream",
     "text": [
      "Optimization terminated successfully    (Exit mode 0)\n",
      "            Current function value: 0.08713150282318233\n",
      "            Iterations: 387\n",
      "            Function evaluations: 387\n",
      "            Gradient evaluations: 387\n"
     ]
    },
    {
     "name": "stderr",
     "output_type": "stream",
     "text": [
      "\r",
      " 87%|████████▋ | 67/77 [02:43<00:25,  2.50s/it]"
     ]
    },
    {
     "name": "stdout",
     "output_type": "stream",
     "text": [
      "Optimization terminated successfully    (Exit mode 0)\n",
      "            Current function value: 0.1278473161933919\n",
      "            Iterations: 411\n",
      "            Function evaluations: 412\n",
      "            Gradient evaluations: 411\n"
     ]
    },
    {
     "name": "stderr",
     "output_type": "stream",
     "text": [
      "\r",
      " 88%|████████▊ | 68/77 [02:45<00:21,  2.43s/it]"
     ]
    },
    {
     "name": "stdout",
     "output_type": "stream",
     "text": [
      "Optimization terminated successfully    (Exit mode 0)\n",
      "            Current function value: 0.11251575168974363\n",
      "            Iterations: 370\n",
      "            Function evaluations: 371\n",
      "            Gradient evaluations: 370\n"
     ]
    },
    {
     "name": "stderr",
     "output_type": "stream",
     "text": [
      "\r",
      " 90%|████████▉ | 69/77 [02:47<00:19,  2.48s/it]"
     ]
    },
    {
     "name": "stdout",
     "output_type": "stream",
     "text": [
      "Optimization terminated successfully    (Exit mode 0)\n",
      "            Current function value: 0.10041912415442537\n",
      "            Iterations: 433\n",
      "            Function evaluations: 434\n",
      "            Gradient evaluations: 433\n"
     ]
    },
    {
     "name": "stderr",
     "output_type": "stream",
     "text": [
      "\r",
      " 91%|█████████ | 70/77 [02:50<00:17,  2.46s/it]"
     ]
    },
    {
     "name": "stdout",
     "output_type": "stream",
     "text": [
      "Optimization terminated successfully    (Exit mode 0)\n",
      "            Current function value: 0.11231891241215104\n",
      "            Iterations: 398\n",
      "            Function evaluations: 398\n",
      "            Gradient evaluations: 398\n"
     ]
    },
    {
     "name": "stderr",
     "output_type": "stream",
     "text": [
      "\r",
      " 92%|█████████▏| 71/77 [02:52<00:14,  2.48s/it]"
     ]
    },
    {
     "name": "stdout",
     "output_type": "stream",
     "text": [
      "Optimization terminated successfully    (Exit mode 0)\n",
      "            Current function value: 0.11036724962050438\n",
      "            Iterations: 418\n",
      "            Function evaluations: 419\n",
      "            Gradient evaluations: 418\n"
     ]
    },
    {
     "name": "stderr",
     "output_type": "stream",
     "text": [
      "\r",
      " 94%|█████████▎| 72/77 [02:55<00:12,  2.44s/it]"
     ]
    },
    {
     "name": "stdout",
     "output_type": "stream",
     "text": [
      "Optimization terminated successfully    (Exit mode 0)\n",
      "            Current function value: 0.11793234455103853\n",
      "            Iterations: 374\n",
      "            Function evaluations: 375\n",
      "            Gradient evaluations: 374\n"
     ]
    },
    {
     "name": "stderr",
     "output_type": "stream",
     "text": [
      "\r",
      " 95%|█████████▍| 73/77 [02:59<00:11,  2.85s/it]"
     ]
    },
    {
     "name": "stdout",
     "output_type": "stream",
     "text": [
      "Optimization terminated successfully    (Exit mode 0)\n",
      "            Current function value: 0.11731459820003284\n",
      "            Iterations: 482\n",
      "            Function evaluations: 483\n",
      "            Gradient evaluations: 482\n"
     ]
    },
    {
     "name": "stderr",
     "output_type": "stream",
     "text": [
      "\r",
      " 96%|█████████▌| 74/77 [03:01<00:08,  2.72s/it]"
     ]
    },
    {
     "name": "stdout",
     "output_type": "stream",
     "text": [
      "Optimization terminated successfully    (Exit mode 0)\n",
      "            Current function value: 0.1292254732133731\n",
      "            Iterations: 398\n",
      "            Function evaluations: 398\n",
      "            Gradient evaluations: 398\n"
     ]
    },
    {
     "name": "stderr",
     "output_type": "stream",
     "text": [
      "\r",
      " 97%|█████████▋| 75/77 [03:03<00:05,  2.53s/it]"
     ]
    },
    {
     "name": "stdout",
     "output_type": "stream",
     "text": [
      "Optimization terminated successfully    (Exit mode 0)\n",
      "            Current function value: 0.05582152425111572\n",
      "            Iterations: 337\n",
      "            Function evaluations: 338\n",
      "            Gradient evaluations: 337\n"
     ]
    },
    {
     "name": "stderr",
     "output_type": "stream",
     "text": [
      "\r",
      " 99%|█████████▊| 76/77 [03:06<00:02,  2.54s/it]"
     ]
    },
    {
     "name": "stdout",
     "output_type": "stream",
     "text": [
      "Optimization terminated successfully    (Exit mode 0)\n",
      "            Current function value: 0.09609441790427711\n",
      "            Iterations: 428\n",
      "            Function evaluations: 428\n",
      "            Gradient evaluations: 428\n"
     ]
    },
    {
     "name": "stderr",
     "output_type": "stream",
     "text": [
      "100%|██████████| 77/77 [03:08<00:00,  2.45s/it]"
     ]
    },
    {
     "name": "stdout",
     "output_type": "stream",
     "text": [
      "Optimization terminated successfully    (Exit mode 0)\n",
      "            Current function value: 0.11680184049813375\n",
      "            Iterations: 414\n",
      "            Function evaluations: 414\n",
      "            Gradient evaluations: 414\n"
     ]
    },
    {
     "name": "stderr",
     "output_type": "stream",
     "text": [
      "\n"
     ]
    }
   ],
   "source": [
    "# fit MLM-cell\n",
    "MLM.fit_LocalModels(X_train, y_train, \n",
    "                    eps=0.1, num_noise_samp=100, \n",
    "                    classification=True, alpha=0.1, max_iter=10000, random_seed=1)"
   ]
  },
  {
   "cell_type": "code",
   "execution_count": 41,
   "metadata": {},
   "outputs": [
    {
     "name": "stderr",
     "output_type": "stream",
     "text": [
      "100%|██████████| 77/77 [00:00<00:00, 3958.59it/s]\n",
      "100%|██████████| 77/77 [00:00<00:00, 358.93it/s]\n",
      "100%|██████████| 77/77 [00:00<00:00, 8347.84it/s]\n",
      "100%|██████████| 77/77 [00:00<00:00, 389.61it/s]\n"
     ]
    }
   ],
   "source": [
    "pred_lmm_train = np.round(MLM.predict(X_train))\n",
    "pred_lmm_test = np.round(MLM.predict(X_test))"
   ]
  },
  {
   "cell_type": "code",
   "execution_count": 43,
   "metadata": {},
   "outputs": [
    {
     "name": "stdout",
     "output_type": "stream",
     "text": [
      "MLM-CELL: Train RMSE:0.948 / Test RMSE:0.728\n"
     ]
    }
   ],
   "source": [
    "print('MLM-CELL: Train RMSE:{:3.3f} / Test RMSE:{:3.3f}'.format(\n",
    "            roc_auc_score(y_train,np.array(pred_lmm_train)),\n",
    "            roc_auc_score(y_test,np.array(pred_lmm_test))))"
   ]
  },
  {
   "cell_type": "code",
   "execution_count": 44,
   "metadata": {
    "scrolled": true
   },
   "outputs": [
    {
     "name": "stderr",
     "output_type": "stream",
     "text": [
      "100%|██████████| 77/77 [00:00<00:00, 140.60it/s]\n",
      "./src\\mixturelinearmodel.py:392: ClusterWarning: scipy.cluster: The symmetric non-negative hollow observation matrix looks suspiciously like an uncondensed distance matrix\n",
      "  LocalModelsTree = linkage(self.dist_mat_avg, 'ward')\n",
      " 10%|█         | 1/10 [00:03<00:32,  3.62s/it]"
     ]
    },
    {
     "name": "stdout",
     "output_type": "stream",
     "text": [
      "Optimization terminated successfully    (Exit mode 0)\n",
      "            Current function value: 0.09785115526250754\n",
      "            Iterations: 577\n",
      "            Function evaluations: 577\n",
      "            Gradient evaluations: 577\n"
     ]
    },
    {
     "name": "stderr",
     "output_type": "stream",
     "text": [
      "\r",
      " 20%|██        | 2/10 [00:06<00:27,  3.44s/it]"
     ]
    },
    {
     "name": "stdout",
     "output_type": "stream",
     "text": [
      "Optimization terminated successfully    (Exit mode 0)\n",
      "            Current function value: 0.06723369201376594\n",
      "            Iterations: 466\n",
      "            Function evaluations: 467\n",
      "            Gradient evaluations: 466\n"
     ]
    },
    {
     "name": "stderr",
     "output_type": "stream",
     "text": [
      "\r",
      " 30%|███       | 3/10 [00:09<00:22,  3.28s/it]"
     ]
    },
    {
     "name": "stdout",
     "output_type": "stream",
     "text": [
      "Optimization terminated successfully    (Exit mode 0)\n",
      "            Current function value: 0.10828798929346822\n",
      "            Iterations: 436\n",
      "            Function evaluations: 437\n",
      "            Gradient evaluations: 436\n"
     ]
    },
    {
     "name": "stderr",
     "output_type": "stream",
     "text": [
      "\r",
      " 40%|████      | 4/10 [00:12<00:19,  3.29s/it]"
     ]
    },
    {
     "name": "stdout",
     "output_type": "stream",
     "text": [
      "Optimization terminated successfully    (Exit mode 0)\n",
      "            Current function value: 0.13133369766307668\n",
      "            Iterations: 532\n",
      "            Function evaluations: 532\n",
      "            Gradient evaluations: 532\n"
     ]
    },
    {
     "name": "stderr",
     "output_type": "stream",
     "text": [
      "\r",
      " 50%|█████     | 5/10 [00:15<00:16,  3.22s/it]"
     ]
    },
    {
     "name": "stdout",
     "output_type": "stream",
     "text": [
      "Optimization terminated successfully    (Exit mode 0)\n",
      "            Current function value: 0.05668913152997961\n",
      "            Iterations: 454\n",
      "            Function evaluations: 454\n",
      "            Gradient evaluations: 454\n"
     ]
    },
    {
     "name": "stderr",
     "output_type": "stream",
     "text": [
      "\r",
      " 60%|██████    | 6/10 [00:18<00:12,  3.11s/it]"
     ]
    },
    {
     "name": "stdout",
     "output_type": "stream",
     "text": [
      "Optimization terminated successfully    (Exit mode 0)\n",
      "            Current function value: 0.12900200335461304\n",
      "            Iterations: 450\n",
      "            Function evaluations: 451\n",
      "            Gradient evaluations: 450\n"
     ]
    },
    {
     "name": "stderr",
     "output_type": "stream",
     "text": [
      "\r",
      " 70%|███████   | 7/10 [00:21<00:09,  3.14s/it]"
     ]
    },
    {
     "name": "stdout",
     "output_type": "stream",
     "text": [
      "Optimization terminated successfully    (Exit mode 0)\n",
      "            Current function value: 0.11263199011703887\n",
      "            Iterations: 515\n",
      "            Function evaluations: 515\n",
      "            Gradient evaluations: 515\n"
     ]
    },
    {
     "name": "stderr",
     "output_type": "stream",
     "text": [
      "\r",
      " 80%|████████  | 8/10 [00:25<00:06,  3.21s/it]"
     ]
    },
    {
     "name": "stdout",
     "output_type": "stream",
     "text": [
      "Optimization terminated successfully    (Exit mode 0)\n",
      "            Current function value: 0.16440932623348414\n",
      "            Iterations: 527\n",
      "            Function evaluations: 527\n",
      "            Gradient evaluations: 527\n"
     ]
    },
    {
     "name": "stderr",
     "output_type": "stream",
     "text": [
      "\r",
      " 90%|█████████ | 9/10 [00:28<00:03,  3.31s/it]"
     ]
    },
    {
     "name": "stdout",
     "output_type": "stream",
     "text": [
      "Optimization terminated successfully    (Exit mode 0)\n",
      "            Current function value: 0.11657176543155769\n",
      "            Iterations: 559\n",
      "            Function evaluations: 559\n",
      "            Gradient evaluations: 559\n"
     ]
    },
    {
     "name": "stderr",
     "output_type": "stream",
     "text": [
      "C:\\Users\\bsseo\\anaconda3\\lib\\site-packages\\statsmodels\\base\\l1_solvers_common.py:71: ConvergenceWarning: QC check did not pass for 2 out of 74 parameters\n",
      "Try increasing solver accuracy or number of iterations, decreasing alpha, or switch solvers\n",
      "  warnings.warn(message, ConvergenceWarning)\n",
      "C:\\Users\\bsseo\\anaconda3\\lib\\site-packages\\statsmodels\\base\\l1_solvers_common.py:144: ConvergenceWarning: Could not trim params automatically due to failed QC check. Trimming using trim_mode == 'size' will still work.\n",
      "  warnings.warn(msg, ConvergenceWarning)\n",
      "100%|██████████| 10/10 [00:32<00:00,  3.29s/it]"
     ]
    },
    {
     "name": "stdout",
     "output_type": "stream",
     "text": [
      "Optimization terminated successfully    (Exit mode 0)\n",
      "            Current function value: 0.17244770878374768\n",
      "            Iterations: 647\n",
      "            Function evaluations: 647\n",
      "            Gradient evaluations: 647\n"
     ]
    },
    {
     "name": "stderr",
     "output_type": "stream",
     "text": [
      "\n"
     ]
    }
   ],
   "source": [
    "# fit MLM-EPIC\n",
    "MLM.fit_MergedLocalModels(10, classification=True, alpha=0.1, max_iter=10000, random_seed=1,verbose=True)"
   ]
  },
  {
   "cell_type": "code",
   "execution_count": 45,
   "metadata": {},
   "outputs": [
    {
     "name": "stderr",
     "output_type": "stream",
     "text": [
      "100%|██████████| 77/77 [00:00<00:00, 7544.06it/s]\n",
      "100%|██████████| 10/10 [00:00<00:00, 53.58it/s]\n",
      "100%|██████████| 77/77 [00:00<00:00, 11034.63it/s]\n",
      "100%|██████████| 10/10 [00:00<00:00, 54.02it/s]\n"
     ]
    }
   ],
   "source": [
    "pred_epic_train = np.round(MLM.predict(X_train,  merged=True, covariance_type='full', covariance_tied=False, uniform_prior=False))\n",
    "pred_epic_test = np.round(MLM.predict(X_test, merged=True, covariance_type='full', covariance_tied=False, uniform_prior=False))"
   ]
  },
  {
   "cell_type": "code",
   "execution_count": 46,
   "metadata": {},
   "outputs": [
    {
     "name": "stdout",
     "output_type": "stream",
     "text": [
      "MLM-EPIC: Train RMSE:0.862 / Test RMSE:0.743\n"
     ]
    }
   ],
   "source": [
    "print('MLM-EPIC: Train RMSE:{:3.3f} / Test RMSE:{:3.3f}'.format(\n",
    "            roc_auc_score(y_train,np.array(pred_epic_train)),\n",
    "            roc_auc_score(y_test,np.array(pred_epic_test))))"
   ]
  },
  {
   "cell_type": "code",
   "execution_count": 47,
   "metadata": {},
   "outputs": [],
   "source": [
    "MLM.save_dict('./output/mlm_skcm')"
   ]
  },
  {
   "cell_type": "markdown",
   "metadata": {},
   "source": [
    "---"
   ]
  },
  {
   "cell_type": "markdown",
   "metadata": {},
   "source": [
    "## <font color='blue'>4. Interpretation</font>"
   ]
  },
  {
   "cell_type": "markdown",
   "metadata": {},
   "source": [
    "### <font color='orange'>4-1. regression coefficients</font>"
   ]
  },
  {
   "cell_type": "code",
   "execution_count": 54,
   "metadata": {},
   "outputs": [],
   "source": [
    "import utils\n",
    "import importlib\n",
    "importlib.reload(utils)\n",
    "import utils\n",
    "from utils import plot_mosaic, plot_ci, explainable_tree, explainable_condition, explainable_dim, highest_explainable_dim, plot_id_1d, plot_id_2d, plot_id_3d"
   ]
  },
  {
   "cell_type": "code",
   "execution_count": 55,
   "metadata": {},
   "outputs": [],
   "source": [
    "from utils import plot_mosaic, plot_ci, explainable_tree, explainable_condition, explainable_dim, highest_explainable_dim, plot_id_1d, plot_id_2d, plot_id_3d"
   ]
  },
  {
   "cell_type": "code",
   "execution_count": 56,
   "metadata": {},
   "outputs": [
    {
     "name": "stderr",
     "output_type": "stream",
     "text": [
      "100%|██████████| 77/77 [00:00<00:00, 8001.42it/s]\n",
      "100%|██████████| 10/10 [00:00<00:00, 42.31it/s]\n"
     ]
    }
   ],
   "source": [
    "pred_epic_train = MLM.predict(X_train,  merged=True, covariance_type='full', covariance_tied=False, uniform_prior=False)"
   ]
  },
  {
   "cell_type": "code",
   "execution_count": 57,
   "metadata": {},
   "outputs": [],
   "source": [
    "MLM.feature_names = feature_names"
   ]
  },
  {
   "cell_type": "code",
   "execution_count": 59,
   "metadata": {
    "scrolled": true
   },
   "outputs": [
    {
     "data": {
      "image/png": "[encoded data removed]",
      "text/plain": [
       "<Figure size 1440x720 with 2 Axes>"
      ]
     },
     "metadata": {
      "needs_background": "light"
     },
     "output_type": "display_data"
    }
   ],
   "source": [
    "fig, ax = plt.subplots(figsize=(20, 10))\n",
    "plot_mosaic(MLM, epic_id=range(5), log_trans=False, ax=ax)"
   ]
  },
  {
   "cell_type": "code",
   "execution_count": 66,
   "metadata": {},
   "outputs": [
    {
     "data": {
      "image/png": "[encoded data removed]",
      "text/plain": [
       "<Figure size 3000x1500 with 4 Axes>"
      ]
     },
     "metadata": {
      "needs_background": "light"
     },
     "output_type": "display_data"
    }
   ],
   "source": [
    "f, axs = plt.subplots(2,2,figsize=(10,5),dpi=300)\n",
    "f.tight_layout()\n",
    "for i in range(4):\n",
    "    j = (1,23,17,7)[i]\n",
    "    ax = plt.subplot(2,2,i+1)\n",
    "    plot_ci(MLM,j,epic_id=range(10),ax=ax,title=True)"
   ]
  },
  {
   "cell_type": "markdown",
   "metadata": {},
   "source": [
    "### <font color='orange'>4-2. Low Dimensional Subspace</font>"
   ]
  },
  {
   "cell_type": "code",
   "execution_count": 67,
   "metadata": {
    "scrolled": true
   },
   "outputs": [
    {
     "name": "stdout",
     "output_type": "stream",
     "text": [
      "EPIC 0(orig id 3): found tree with max pure size 11 and total pure size 59 for 59\n",
      "EPIC 1(orig id 9): found tree with max pure size 12 and total pure size 54 for 54\n",
      "EPIC 2(orig id 6): found tree with max pure size 11 and total pure size 46 for 46\n",
      "EPIC 3(orig id 7): found tree with max pure size 9 and total pure size 43 for 43\n",
      "EPIC 4(orig id 0): found tree with max pure size 6 and total pure size 32 for 32\n"
     ]
    }
   ],
   "source": [
    "explainable_tree(MLM, X_train, psi=1, epic_id=range(5))"
   ]
  },
  {
   "cell_type": "code",
   "execution_count": 71,
   "metadata": {},
   "outputs": [],
   "source": [
    "exp_cond = explainable_condition(MLM, Xoo, xi=5, epic_id=range(5), origin_scale=True)"
   ]
  },
  {
   "cell_type": "code",
   "execution_count": 72,
   "metadata": {},
   "outputs": [
    {
     "data": {
      "text/plain": [
       "[[array([['7', 'AGE <= 29.0'],\n",
       "         ['7', 'DAYS_TO_COLLECTION <= 10345.0'],\n",
       "         ['7', 'ICD_10 <= 5.0'],\n",
       "         ['7', 'ICD_O_3_SITE > 23.5'],\n",
       "         ['7', 'OS_MONTHS <= 306.2'],\n",
       "         ['7', 'RETROSPECTIVE_COLLECTION > 1.5'],\n",
       "         ['7', 'AJCC_STAGING_EDITION5 != 1']], dtype='<U30'),\n",
       "  array([['8', 'AGE <= 29.0'],\n",
       "         ['8', 'DAYS_TO_COLLECTION <= 8701.0'],\n",
       "         ['8', 'DAYS_TO_COLLECTION > 10345.0'],\n",
       "         ['8', 'INITIAL_PATHOLOGIC_DX_YEAR > 1996.5'],\n",
       "         ['8', 'NEW_TUMOR_EVENT_AFTER_INITIAL_TREATMENT > 1.5'],\n",
       "         ['8', 'OS_MONTHS <= 306.2'],\n",
       "         ['8', 'RETROSPECTIVE_COLLECTION > 1.5'],\n",
       "         ['8', 'SUBMITTED_TUMOR_DX_DAYS_TO > 9737.0'],\n",
       "         ['8', 'AJCC_STAGING_EDITION5 != 1']], dtype='<U45'),\n",
       "  array([['11', 'AGE <= 29.0'],\n",
       "         ['11', 'DAYS_TO_COLLECTION > 10345.0'],\n",
       "         ['11', 'INITIAL_PATHOLOGIC_DX_YEAR > 1996.5'],\n",
       "         ['11', 'NEW_TUMOR_EVENT_AFTER_INITIAL_TREATMENT > 1.5'],\n",
       "         ['11', 'OS_MONTHS <= 306.2'],\n",
       "         ['11', 'RETROSPECTIVE_COLLECTION > 1.5'],\n",
       "         ['11', 'AJCC_STAGING_EDITION5 != 1']], dtype='<U45')],\n",
       " [array([['12', 'DAYS_TO_COLLECTION > 10158.5'],\n",
       "         ['12', 'OS_MONTHS <= 195.4'],\n",
       "         ['12', 'SUBMITTED_TUMOR_DX_DAYS_TO > 10292.5'],\n",
       "         ['12', 'AJCC_STAGING_EDITION5 == 1'],\n",
       "         ['12', 'TUMOR_SITE0 == 1']], dtype='<U36')],\n",
       " [array([['9', 'AGE <= 45.5'],\n",
       "         ['9', 'DAYS_TO_COLLECTION > 11850.5'],\n",
       "         ['9', 'FORM_COMPLETION_DATE <= 45.0'],\n",
       "         ['9', 'RADIATION_TREATMENT_ADJUVANT <= 1.5'],\n",
       "         ['9', 'SAMPLE_INITIAL_WEIGHT <= 1595.0'],\n",
       "         ['9', 'SEX <= 1.5'],\n",
       "         ['9', 'AJCC_NODES_PATHOLOGIC_PN1 != 1'],\n",
       "         ['9', 'AJCC_STAGING_EDITION5 == 1'],\n",
       "         ['9', 'TUMOR_SITE5 != 1']], dtype='<U35'),\n",
       "  array([['11', 'AGE <= 45.5'],\n",
       "         ['11', 'FORM_COMPLETION_DATE > 45.0'],\n",
       "         ['11', 'AJCC_STAGING_EDITION5 == 1'],\n",
       "         ['11', 'TUMOR_SITE0 != 1'],\n",
       "         ['11', 'TUMOR_SITE5 != 1']], dtype='<U27')],\n",
       " [array([['9', 'AGE <= 39.5'],\n",
       "         ['9', 'AGE > 45.5'],\n",
       "         ['9', 'FORM_COMPLETION_DATE <= 17.5'],\n",
       "         ['9', 'FRACTION_GENOME_ALTERED <= 0.4'],\n",
       "         ['9', 'RETROSPECTIVE_COLLECTION <= 1.5'],\n",
       "         ['9', 'TISSUE_SOURCE_SITE6 != 1']], dtype='<U31'),\n",
       "  array([['9', 'AGE > 45.5'],\n",
       "         ['9', 'FRACTION_GENOME_ALTERED > 0.4'],\n",
       "         ['9', 'RETROSPECTIVE_COLLECTION <= 1.5'],\n",
       "         ['9', 'TISSUE_SOURCE_SITE6 != 1']], dtype='<U31')],\n",
       " [array([['6', 'FORM_COMPLETION_DATE <= 83.5'],\n",
       "         ['6', 'OS_MONTHS <= 336.6'],\n",
       "         ['6', 'AJCC_STAGING_EDITION5 != 1'],\n",
       "         ['6', 'TUMOR_SITE0 == 1']], dtype='<U28')]]"
      ]
     },
     "execution_count": 72,
     "metadata": {},
     "output_type": "execute_result"
    }
   ],
   "source": [
    "exp_cond"
   ]
  },
  {
   "cell_type": "markdown",
   "metadata": {},
   "source": [
    "### <font color='orange'>4-3. Prominent Region </font>"
   ]
  },
  {
   "cell_type": "code",
   "execution_count": 75,
   "metadata": {},
   "outputs": [
    {
     "name": "stderr",
     "output_type": "stream",
     "text": [
      "100%|██████████| 73/73 [00:00<00:00, 76.40it/s]\n",
      "100%|██████████| 72/72 [00:01<00:00, 69.33it/s]\n",
      "100%|██████████| 71/71 [00:01<00:00, 67.88it/s]\n",
      "100%|██████████| 70/70 [00:01<00:00, 64.68it/s]\n",
      "100%|██████████| 69/69 [00:01<00:00, 63.96it/s]\n",
      "100%|██████████| 68/68 [00:01<00:00, 52.96it/s]\n",
      "100%|██████████| 67/67 [00:01<00:00, 50.28it/s]\n",
      "100%|██████████| 66/66 [00:01<00:00, 47.80it/s]\n",
      "100%|██████████| 65/65 [00:01<00:00, 45.56it/s]\n",
      "100%|██████████| 64/64 [00:01<00:00, 43.96it/s]\n",
      "100%|██████████| 63/63 [00:01<00:00, 41.30it/s]\n",
      "100%|██████████| 62/62 [00:01<00:00, 37.62it/s]\n",
      "100%|██████████| 61/61 [00:01<00:00, 32.50it/s]\n",
      "100%|██████████| 60/60 [00:02<00:00, 20.82it/s]\n",
      "100%|██████████| 59/59 [00:02<00:00, 21.19it/s]\n",
      "100%|██████████| 58/58 [00:02<00:00, 20.84it/s]\n",
      "100%|██████████| 57/57 [00:02<00:00, 19.19it/s]\n",
      "100%|██████████| 56/56 [00:03<00:00, 17.21it/s]\n",
      "100%|██████████| 55/55 [00:03<00:00, 16.21it/s]\n",
      "100%|██████████| 54/54 [00:03<00:00, 15.85it/s]\n",
      "100%|██████████| 53/53 [00:03<00:00, 15.33it/s]\n",
      "100%|██████████| 52/52 [00:03<00:00, 14.40it/s]\n",
      "100%|██████████| 51/51 [00:03<00:00, 12.92it/s]\n",
      "100%|██████████| 50/50 [00:03<00:00, 13.02it/s]\n",
      "100%|██████████| 49/49 [00:04<00:00, 12.15it/s]\n",
      "100%|██████████| 48/48 [00:04<00:00, 11.78it/s]\n",
      "100%|██████████| 47/47 [00:04<00:00, 10.20it/s]\n",
      "100%|██████████| 46/46 [00:04<00:00, 10.47it/s]\n",
      "100%|██████████| 45/45 [00:04<00:00,  9.54it/s]\n",
      "100%|██████████| 44/44 [00:05<00:00,  8.06it/s]\n",
      "100%|██████████| 43/43 [00:05<00:00,  7.86it/s]\n",
      "100%|██████████| 42/42 [00:05<00:00,  8.00it/s]\n",
      "100%|██████████| 41/41 [00:05<00:00,  7.90it/s]\n",
      "100%|██████████| 40/40 [00:05<00:00,  7.37it/s]\n",
      "100%|██████████| 39/39 [00:05<00:00,  7.60it/s]\n",
      "100%|██████████| 38/38 [00:05<00:00,  7.00it/s]\n",
      "100%|██████████| 37/37 [00:05<00:00,  6.93it/s]\n",
      "100%|██████████| 36/36 [00:05<00:00,  7.09it/s]\n",
      "100%|██████████| 35/35 [00:05<00:00,  6.44it/s]\n",
      "100%|██████████| 34/34 [00:05<00:00,  6.59it/s]\n",
      "100%|██████████| 33/33 [00:05<00:00,  6.50it/s]\n",
      "100%|██████████| 32/32 [00:05<00:00,  6.02it/s]\n",
      "100%|██████████| 31/31 [00:05<00:00,  6.05it/s]\n",
      "100%|██████████| 30/30 [00:04<00:00,  6.08it/s]\n",
      "100%|██████████| 29/29 [00:05<00:00,  5.75it/s]\n",
      "100%|██████████| 28/28 [00:05<00:00,  5.33it/s]\n",
      "100%|██████████| 27/27 [00:04<00:00,  5.48it/s]\n",
      "100%|██████████| 26/26 [00:04<00:00,  5.37it/s]\n",
      "  7%|▋         | 5/73 [00:00<00:01, 49.74it/s]"
     ]
    },
    {
     "name": "stdout",
     "output_type": "stream",
     "text": [
      "[[3 47 21\n",
      "  (50, 6, 32, 53, 35, 55, 0, 47, 13, 69, 27, 7, 3, 51, 33, 34, 2, 39, 5, 24, 41, 31, 48, 20, 67, 54, 23, 16, 52, 15, 21, 26, 60, 71, 8, 42, 44, 59, 10, 62, 68, 72, 18, 57, 28, 1, 22, 63)\n",
      "  0.8141592920353983]]\n"
     ]
    },
    {
     "name": "stderr",
     "output_type": "stream",
     "text": [
      "100%|██████████| 73/73 [00:01<00:00, 49.65it/s]\n",
      "100%|██████████| 72/72 [00:01<00:00, 56.38it/s]\n",
      "100%|██████████| 71/71 [00:01<00:00, 55.94it/s]\n",
      "100%|██████████| 70/70 [00:01<00:00, 53.78it/s]\n",
      "100%|██████████| 69/69 [00:01<00:00, 53.47it/s]\n",
      "100%|██████████| 68/68 [00:01<00:00, 43.53it/s]\n",
      "100%|██████████| 67/67 [00:01<00:00, 39.19it/s]\n",
      "100%|██████████| 66/66 [00:01<00:00, 36.07it/s]\n",
      "100%|██████████| 65/65 [00:01<00:00, 33.59it/s]\n",
      "100%|██████████| 64/64 [00:02<00:00, 31.02it/s]\n",
      "100%|██████████| 63/63 [00:02<00:00, 25.36it/s]\n",
      "100%|██████████| 62/62 [00:02<00:00, 26.21it/s]\n",
      "100%|██████████| 61/61 [00:02<00:00, 24.92it/s]\n",
      "100%|██████████| 60/60 [00:02<00:00, 23.83it/s]\n",
      "100%|██████████| 59/59 [00:02<00:00, 23.16it/s]\n",
      "100%|██████████| 58/58 [00:02<00:00, 22.22it/s]\n",
      "100%|██████████| 57/57 [00:02<00:00, 19.05it/s]\n",
      "100%|██████████| 56/56 [00:03<00:00, 17.33it/s]\n",
      "100%|██████████| 55/55 [00:03<00:00, 17.74it/s]\n",
      "100%|██████████| 54/54 [00:03<00:00, 16.55it/s]\n",
      "100%|██████████| 53/53 [00:03<00:00, 15.70it/s]\n",
      "100%|██████████| 52/52 [00:03<00:00, 13.84it/s]\n",
      "100%|██████████| 51/51 [00:03<00:00, 13.86it/s]\n",
      "100%|██████████| 50/50 [00:03<00:00, 12.80it/s]\n",
      "100%|██████████| 49/49 [00:04<00:00, 12.24it/s]\n",
      "100%|██████████| 48/48 [00:04<00:00, 11.10it/s]\n",
      "100%|██████████| 47/47 [00:05<00:00,  9.11it/s]\n",
      "100%|██████████| 46/46 [00:04<00:00, 10.52it/s]\n",
      " 16%|█▋        | 12/73 [00:00<00:01, 57.13it/s]"
     ]
    },
    {
     "name": "stdout",
     "output_type": "stream",
     "text": [
      "[[9 27 9\n",
      "  (43, 58, 2, 3, 36, 50, 37, 6, 70, 26, 12, 35, 8, 33, 42, 29, 51, 17, 25, 24, 1, 19, 13, 59, 72, 30, 49, 16)\n",
      "  0.8037383177570094]\n",
      " [9 27 11\n",
      "  (43, 58, 2, 3, 36, 50, 37, 6, 70, 26, 12, 35, 8, 33, 42, 29, 51, 17, 25, 24, 1, 19, 13, 59, 72, 30, 49, 20)\n",
      "  0.8037383177570094]]\n"
     ]
    },
    {
     "name": "stderr",
     "output_type": "stream",
     "text": [
      "100%|██████████| 73/73 [00:01<00:00, 63.27it/s]\n",
      "100%|██████████| 72/72 [00:01<00:00, 62.86it/s]\n",
      "100%|██████████| 71/71 [00:01<00:00, 57.36it/s]\n",
      "100%|██████████| 70/70 [00:01<00:00, 49.18it/s]\n",
      "100%|██████████| 69/69 [00:01<00:00, 41.83it/s]\n",
      "100%|██████████| 68/68 [00:01<00:00, 41.31it/s]\n",
      "100%|██████████| 67/67 [00:01<00:00, 39.23it/s]\n",
      "100%|██████████| 66/66 [00:01<00:00, 36.40it/s]\n",
      "100%|██████████| 65/65 [00:01<00:00, 34.13it/s]\n",
      "100%|██████████| 64/64 [00:02<00:00, 30.28it/s]\n",
      "100%|██████████| 63/63 [00:02<00:00, 28.23it/s]\n",
      "100%|██████████| 62/62 [00:02<00:00, 26.87it/s]\n",
      "100%|██████████| 61/61 [00:02<00:00, 21.40it/s]\n",
      "100%|██████████| 60/60 [00:02<00:00, 20.58it/s]\n",
      "100%|██████████| 59/59 [00:02<00:00, 22.42it/s]\n",
      "100%|██████████| 58/58 [00:02<00:00, 22.13it/s]\n",
      "100%|██████████| 57/57 [00:02<00:00, 20.93it/s]\n",
      "100%|██████████| 56/56 [00:03<00:00, 17.49it/s]\n",
      "100%|██████████| 55/55 [00:03<00:00, 16.28it/s]\n",
      "100%|██████████| 54/54 [00:03<00:00, 16.59it/s]\n",
      "100%|██████████| 53/53 [00:03<00:00, 15.35it/s]\n",
      "  8%|▊         | 6/73 [00:00<00:01, 55.22it/s]"
     ]
    },
    {
     "name": "stdout",
     "output_type": "stream",
     "text": [
      "[[6 20 37\n",
      "  (68, 0, 14, 39, 59, 27, 62, 20, 11, 5, 16, 6, 26, 18, 41, 45, 15, 2, 48, 37, 54)\n",
      "  0.8048780487804877]]\n"
     ]
    },
    {
     "name": "stderr",
     "output_type": "stream",
     "text": [
      "100%|██████████| 73/73 [00:01<00:00, 61.75it/s]\n",
      "100%|██████████| 72/72 [00:01<00:00, 63.30it/s]\n",
      "100%|██████████| 71/71 [00:01<00:00, 56.91it/s]\n",
      "100%|██████████| 70/70 [00:01<00:00, 56.79it/s]\n",
      "100%|██████████| 69/69 [00:01<00:00, 45.74it/s]\n",
      "100%|██████████| 68/68 [00:01<00:00, 43.68it/s]\n",
      "100%|██████████| 67/67 [00:01<00:00, 39.45it/s]\n",
      "100%|██████████| 66/66 [00:01<00:00, 38.33it/s]\n",
      "100%|██████████| 65/65 [00:01<00:00, 34.69it/s]\n",
      "100%|██████████| 64/64 [00:01<00:00, 32.20it/s]\n",
      "100%|██████████| 63/63 [00:02<00:00, 29.50it/s]\n",
      "100%|██████████| 62/62 [00:02<00:00, 27.16it/s]\n",
      "100%|██████████| 61/61 [00:02<00:00, 24.52it/s]\n",
      "100%|██████████| 60/60 [00:02<00:00, 23.34it/s]\n",
      "100%|██████████| 59/59 [00:02<00:00, 23.31it/s]\n",
      "100%|██████████| 58/58 [00:02<00:00, 22.28it/s]\n",
      " 10%|▉         | 7/73 [00:00<00:01, 60.51it/s]"
     ]
    },
    {
     "name": "stdout",
     "output_type": "stream",
     "text": [
      "[[7 15 12 (49, 14, 0, 46, 41, 15, 70, 38, 32, 34, 21, 33, 9, 30, 66, 16)\n",
      "  0.810126582278481]\n",
      " [7 15 21 (49, 14, 0, 46, 41, 15, 70, 38, 32, 34, 21, 33, 9, 30, 66, 26)\n",
      "  0.810126582278481]\n",
      " [7 15 36 (49, 14, 0, 46, 41, 15, 70, 38, 32, 34, 21, 33, 9, 30, 66, 48)\n",
      "  0.810126582278481]]\n"
     ]
    },
    {
     "name": "stderr",
     "output_type": "stream",
     "text": [
      "100%|██████████| 73/73 [00:01<00:00, 62.47it/s]\n",
      "100%|██████████| 72/72 [00:01<00:00, 63.92it/s]\n",
      "100%|██████████| 71/71 [00:01<00:00, 57.20it/s]\n",
      "100%|██████████| 70/70 [00:01<00:00, 56.68it/s]\n",
      "100%|██████████| 69/69 [00:01<00:00, 54.91it/s]\n",
      "100%|██████████| 68/68 [00:01<00:00, 41.75it/s]\n",
      "100%|██████████| 67/67 [00:01<00:00, 34.76it/s]\n",
      "100%|██████████| 66/66 [00:01<00:00, 35.91it/s]\n",
      "100%|██████████| 65/65 [00:01<00:00, 33.66it/s]\n",
      "100%|██████████| 64/64 [00:02<00:00, 31.65it/s]\n",
      "100%|██████████| 63/63 [00:02<00:00, 29.73it/s]\n",
      "100%|██████████| 62/62 [00:02<00:00, 25.94it/s]\n",
      "100%|██████████| 61/61 [00:02<00:00, 26.28it/s]\n",
      "100%|██████████| 60/60 [00:02<00:00, 21.27it/s]\n",
      "100%|██████████| 59/59 [00:02<00:00, 20.99it/s]\n",
      "100%|██████████| 58/58 [00:02<00:00, 22.33it/s]\n",
      "100%|██████████| 57/57 [00:02<00:00, 21.02it/s]\n",
      "100%|██████████| 56/56 [00:02<00:00, 19.24it/s]\n",
      "100%|██████████| 55/55 [00:03<00:00, 17.88it/s]\n",
      "100%|██████████| 54/54 [00:03<00:00, 15.59it/s]\n",
      "100%|██████████| 53/53 [00:03<00:00, 15.49it/s]"
     ]
    },
    {
     "name": "stdout",
     "output_type": "stream",
     "text": [
      "[[0 20 50\n",
      "  (6, 59, 37, 67, 13, 26, 10, 32, 19, 5, 21, 16, 11, 66, 8, 39, 50, 63, 9, 22, 70)\n",
      "  0.8070175438596492]]\n"
     ]
    },
    {
     "name": "stderr",
     "output_type": "stream",
     "text": [
      "\n"
     ]
    }
   ],
   "source": [
    "explainable_dim(MLM,X_train,threshold=0.8,epic_id=range(5),max_dim=p)"
   ]
  },
  {
   "cell_type": "code",
   "execution_count": 76,
   "metadata": {},
   "outputs": [
    {
     "data": {
      "text/plain": [
       "[(3,\n",
       "  (50,\n",
       "   6,\n",
       "   32,\n",
       "   53,\n",
       "   35,\n",
       "   55,\n",
       "   0,\n",
       "   47,\n",
       "   13,\n",
       "   69,\n",
       "   27,\n",
       "   7,\n",
       "   3,\n",
       "   51,\n",
       "   33,\n",
       "   34,\n",
       "   2,\n",
       "   39,\n",
       "   5,\n",
       "   24,\n",
       "   41,\n",
       "   31,\n",
       "   48,\n",
       "   20,\n",
       "   67,\n",
       "   54,\n",
       "   23,\n",
       "   16,\n",
       "   52,\n",
       "   15,\n",
       "   21,\n",
       "   26,\n",
       "   60,\n",
       "   71,\n",
       "   8,\n",
       "   42,\n",
       "   44,\n",
       "   59,\n",
       "   10,\n",
       "   62,\n",
       "   68,\n",
       "   72,\n",
       "   18,\n",
       "   57,\n",
       "   28,\n",
       "   1,\n",
       "   22,\n",
       "   63),\n",
       "  ['TISSUE_SOURCE_SITE8',\n",
       "   'HISTORY_OTHER_MALIGNANCY',\n",
       "   'AJCC_NODES_PATHOLOGIC_PN7',\n",
       "   'TISSUE_SOURCE_SITE11',\n",
       "   'AJCC_STAGING_EDITION1',\n",
       "   'TISSUE_SOURCE_SITE13',\n",
       "   'AGE',\n",
       "   'TISSUE_SOURCE_SITE5',\n",
       "   'OS_MONTHS',\n",
       "   'TUMOR_SITE6',\n",
       "   'AJCC_NODES_PATHOLOGIC_PN2',\n",
       "   'ICD_10',\n",
       "   'FORM_COMPLETION_DATE',\n",
       "   'TISSUE_SOURCE_SITE9',\n",
       "   'AJCC_NODES_PATHOLOGIC_PN8',\n",
       "   'AJCC_STAGING_EDITION0',\n",
       "   'ETHNICITY',\n",
       "   'AJCC_STAGING_EDITION5',\n",
       "   'HISTORY_NEOADJUVANT_TRTYN',\n",
       "   'VIAL_NUMBER',\n",
       "   'RACE1',\n",
       "   'AJCC_NODES_PATHOLOGIC_PN6',\n",
       "   'TISSUE_SOURCE_SITE6',\n",
       "   'SAMPLE_TYPE',\n",
       "   'TUMOR_SITE4',\n",
       "   'TISSUE_SOURCE_SITE12',\n",
       "   'SUBMITTED_TUMOR_DX_DAYS_TO',\n",
       "   'RADIATION_TREATMENT_ADJUVANT',\n",
       "   'TISSUE_SOURCE_SITE10',\n",
       "   'PROSPECTIVE_COLLECTION',\n",
       "   'SAMPLE_TYPE_ID',\n",
       "   'AJCC_NODES_PATHOLOGIC_PN1',\n",
       "   'TISSUE_SOURCE_SITE18',\n",
       "   'TUMOR_SITE8',\n",
       "   'ICD_O_3_HISTOLOGY',\n",
       "   'TISSUE_SOURCE_SITE0',\n",
       "   'TISSUE_SOURCE_SITE2',\n",
       "   'TISSUE_SOURCE_SITE17',\n",
       "   'INITIAL_PATHOLOGIC_DX_YEAR',\n",
       "   'TISSUE_SOURCE_SITE20',\n",
       "   'TUMOR_SITE5',\n",
       "   'TUMOR_SITE9',\n",
       "   'SAMPLE_COUNT',\n",
       "   'TISSUE_SOURCE_SITE15',\n",
       "   'AJCC_NODES_PATHOLOGIC_PN3',\n",
       "   'DAYS_TO_COLLECTION',\n",
       "   'SEX',\n",
       "   'TUMOR_SITE0'],\n",
       "  0.81),\n",
       " (9,\n",
       "  (43,\n",
       "   58,\n",
       "   2,\n",
       "   3,\n",
       "   36,\n",
       "   50,\n",
       "   37,\n",
       "   6,\n",
       "   70,\n",
       "   26,\n",
       "   12,\n",
       "   35,\n",
       "   8,\n",
       "   33,\n",
       "   42,\n",
       "   29,\n",
       "   51,\n",
       "   17,\n",
       "   25,\n",
       "   24,\n",
       "   1,\n",
       "   19,\n",
       "   13,\n",
       "   59,\n",
       "   72,\n",
       "   30,\n",
       "   49,\n",
       "   16),\n",
       "  ['TISSUE_SOURCE_SITE1',\n",
       "   'TISSUE_SOURCE_SITE16',\n",
       "   'ETHNICITY',\n",
       "   'FORM_COMPLETION_DATE',\n",
       "   'AJCC_STAGING_EDITION2',\n",
       "   'TISSUE_SOURCE_SITE8',\n",
       "   'AJCC_STAGING_EDITION3',\n",
       "   'HISTORY_OTHER_MALIGNANCY',\n",
       "   'TUMOR_SITE7',\n",
       "   'AJCC_NODES_PATHOLOGIC_PN1',\n",
       "   'OCT_EMBEDDED',\n",
       "   'AJCC_STAGING_EDITION1',\n",
       "   'ICD_O_3_HISTOLOGY',\n",
       "   'AJCC_NODES_PATHOLOGIC_PN8',\n",
       "   'TISSUE_SOURCE_SITE0',\n",
       "   'AJCC_NODES_PATHOLOGIC_PN4',\n",
       "   'TISSUE_SOURCE_SITE9',\n",
       "   'RETROSPECTIVE_COLLECTION',\n",
       "   'AJCC_NODES_PATHOLOGIC_PN0',\n",
       "   'VIAL_NUMBER',\n",
       "   'DAYS_TO_COLLECTION',\n",
       "   'SAMPLE_INITIAL_WEIGHT',\n",
       "   'OS_MONTHS',\n",
       "   'TISSUE_SOURCE_SITE17',\n",
       "   'TUMOR_SITE9',\n",
       "   'AJCC_NODES_PATHOLOGIC_PN5',\n",
       "   'TISSUE_SOURCE_SITE7',\n",
       "   'RADIATION_TREATMENT_ADJUVANT'],\n",
       "  0.8),\n",
       " (6,\n",
       "  (68,\n",
       "   0,\n",
       "   14,\n",
       "   39,\n",
       "   59,\n",
       "   27,\n",
       "   62,\n",
       "   20,\n",
       "   11,\n",
       "   5,\n",
       "   16,\n",
       "   6,\n",
       "   26,\n",
       "   18,\n",
       "   41,\n",
       "   45,\n",
       "   15,\n",
       "   2,\n",
       "   48,\n",
       "   37,\n",
       "   54),\n",
       "  ['TUMOR_SITE5',\n",
       "   'AGE',\n",
       "   'PRIMARY_MELANOMA_KNOWN_DX',\n",
       "   'AJCC_STAGING_EDITION5',\n",
       "   'TISSUE_SOURCE_SITE17',\n",
       "   'AJCC_NODES_PATHOLOGIC_PN2',\n",
       "   'TISSUE_SOURCE_SITE20',\n",
       "   'SAMPLE_TYPE',\n",
       "   'NEW_TUMOR_EVENT_AFTER_INITIAL_TREATMENT',\n",
       "   'HISTORY_NEOADJUVANT_TRTYN',\n",
       "   'RADIATION_TREATMENT_ADJUVANT',\n",
       "   'HISTORY_OTHER_MALIGNANCY',\n",
       "   'AJCC_NODES_PATHOLOGIC_PN1',\n",
       "   'SAMPLE_COUNT',\n",
       "   'RACE1',\n",
       "   'TISSUE_SOURCE_SITE3',\n",
       "   'PROSPECTIVE_COLLECTION',\n",
       "   'ETHNICITY',\n",
       "   'TISSUE_SOURCE_SITE6',\n",
       "   'AJCC_STAGING_EDITION3',\n",
       "   'TISSUE_SOURCE_SITE12'],\n",
       "  0.8),\n",
       " (7,\n",
       "  (49, 14, 0, 46, 41, 15, 70, 38, 32, 34, 21, 33, 9, 30, 66, 16),\n",
       "  ['TISSUE_SOURCE_SITE7',\n",
       "   'PRIMARY_MELANOMA_KNOWN_DX',\n",
       "   'AGE',\n",
       "   'TISSUE_SOURCE_SITE4',\n",
       "   'RACE1',\n",
       "   'PROSPECTIVE_COLLECTION',\n",
       "   'TUMOR_SITE7',\n",
       "   'AJCC_STAGING_EDITION4',\n",
       "   'AJCC_NODES_PATHOLOGIC_PN7',\n",
       "   'AJCC_STAGING_EDITION0',\n",
       "   'SAMPLE_TYPE_ID',\n",
       "   'AJCC_NODES_PATHOLOGIC_PN8',\n",
       "   'ICD_O_3_SITE',\n",
       "   'AJCC_NODES_PATHOLOGIC_PN5',\n",
       "   'TUMOR_SITE3',\n",
       "   'RADIATION_TREATMENT_ADJUVANT'],\n",
       "  0.81),\n",
       " (0,\n",
       "  (6,\n",
       "   59,\n",
       "   37,\n",
       "   67,\n",
       "   13,\n",
       "   26,\n",
       "   10,\n",
       "   32,\n",
       "   19,\n",
       "   5,\n",
       "   21,\n",
       "   16,\n",
       "   11,\n",
       "   66,\n",
       "   8,\n",
       "   39,\n",
       "   50,\n",
       "   63,\n",
       "   9,\n",
       "   22,\n",
       "   70),\n",
       "  ['HISTORY_OTHER_MALIGNANCY',\n",
       "   'TISSUE_SOURCE_SITE17',\n",
       "   'AJCC_STAGING_EDITION3',\n",
       "   'TUMOR_SITE4',\n",
       "   'OS_MONTHS',\n",
       "   'AJCC_NODES_PATHOLOGIC_PN1',\n",
       "   'INITIAL_PATHOLOGIC_DX_YEAR',\n",
       "   'AJCC_NODES_PATHOLOGIC_PN7',\n",
       "   'SAMPLE_INITIAL_WEIGHT',\n",
       "   'HISTORY_NEOADJUVANT_TRTYN',\n",
       "   'SAMPLE_TYPE_ID',\n",
       "   'RADIATION_TREATMENT_ADJUVANT',\n",
       "   'NEW_TUMOR_EVENT_AFTER_INITIAL_TREATMENT',\n",
       "   'TUMOR_SITE3',\n",
       "   'ICD_O_3_HISTOLOGY',\n",
       "   'AJCC_STAGING_EDITION5',\n",
       "   'TISSUE_SOURCE_SITE8',\n",
       "   'TUMOR_SITE0',\n",
       "   'ICD_O_3_SITE',\n",
       "   'SEX',\n",
       "   'TUMOR_SITE7'],\n",
       "  0.81)]"
      ]
     },
     "execution_count": 76,
     "metadata": {},
     "output_type": "execute_result"
    }
   ],
   "source": [
    "hed =[]\n",
    "for i in range(5):\n",
    "    hed.append(highest_explainable_dim(MLM,i))\n",
    "# epic id / explainable_dim / feature_names / explainable_rate\n",
    "hed"
   ]
  },
  {
   "cell_type": "code",
   "execution_count": null,
   "metadata": {},
   "outputs": [],
   "source": []
  }
 ],
 "metadata": {
  "kernelspec": {
   "display_name": "Python 3",
   "language": "python",
   "name": "python3"
  },
  "language_info": {
   "codemirror_mode": {
    "name": "ipython",
    "version": 3
   },
   "file_extension": ".py",
   "mimetype": "text/x-python",
   "name": "python",
   "nbconvert_exporter": "python",
   "pygments_lexer": "ipython3",
   "version": "3.7.6"
  }
 },
 "nbformat": 4,
 "nbformat_minor": 4
}
